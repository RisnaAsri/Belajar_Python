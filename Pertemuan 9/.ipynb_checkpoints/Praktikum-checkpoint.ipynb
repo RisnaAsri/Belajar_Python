{
 "cells": [
  {
   "cell_type": "markdown",
   "id": "8c78f212-114b-403e-bc23-d7dc4be0b59c",
   "metadata": {},
   "source": [
    "# BELAJAR PYTHON TEKOM F 24"
   ]
  },
  {
   "cell_type": "markdown",
   "id": "525f335c-331d-488a-92b0-eca571cfb2f2",
   "metadata": {},
   "source": [
    "## Praktikum di Kelas"
   ]
  },
  {
   "cell_type": "code",
   "execution_count": 1,
   "id": "f0fa23da-f346-4078-b181-c2f6abfed2f6",
   "metadata": {},
   "outputs": [
    {
     "name": "stdout",
     "output_type": "stream",
     "text": [
      "Nama : Risna Asri\n",
      "NIM : 240210501023\n"
     ]
    }
   ],
   "source": [
    "print(\"Nama : Risna Asri\")\n",
    "print(\"NIM : 240210501023\")"
   ]
  },
  {
   "cell_type": "markdown",
   "id": "a4a132b8-98ac-4531-b71d-6d6d97fac39d",
   "metadata": {},
   "source": [
    "### Analisis:\n",
    "Kode program tersebut menggunakan fungsi print() untuk menampilkan teks ke layar."
   ]
  },
  {
   "attachments": {},
   "cell_type": "markdown",
   "id": "c89717d7-88fb-47ac-a050-63e5ace15db9",
   "metadata": {},
   "source": [
    "## Percobaan Python Comments"
   ]
  },
  {
   "cell_type": "code",
   "execution_count": 2,
   "id": "053ad4bd-f314-46c5-aeeb-f2a1a2df1ca4",
   "metadata": {},
   "outputs": [
    {
     "name": "stdout",
     "output_type": "stream",
     "text": [
      "Hello, World!\n",
      "Hello, World!\n",
      "Cheers, Mate!\n"
     ]
    }
   ],
   "source": [
    "#Creating a Comment\n",
    "#This is a comment\n",
    "print(\"Hello, World!\")\n",
    "\n",
    "print(\"Hello, World!\") #This is a comment\n",
    "\n",
    "#print(\"Hello, World!\")\n",
    "print(\"Cheers, Mate!\")"
   ]
  },
  {
   "cell_type": "markdown",
   "id": "4a4dd252-f5cb-48fd-bb55-5874c1a1e38f",
   "metadata": {},
   "source": [
    "### Analisis:\n",
    "Kode program tersebut menunjukkan penggunaan komentar dalam Python. Tanda pagar (#) digunakan untuk menulis komentar yang tidak dijalankan oleh program. Komentar bisa ditempatkan di awal baris atau di akhir perintah. Baris yang diawali # akan diabaikan oleh Python. Program ini hanya menampilkan teks “Hello, World!” dan “Cheers, Mate!” ke layar, sedangkan baris yang dikomentari tidak dijalankan."
   ]
  },
  {
   "cell_type": "code",
   "execution_count": 3,
   "id": "a0892107-a3ba-474a-8c38-ad57cc5451bb",
   "metadata": {},
   "outputs": [
    {
     "name": "stdout",
     "output_type": "stream",
     "text": [
      "Hello, World!\n",
      "Hello, World!\n"
     ]
    }
   ],
   "source": [
    "#Multiline Comments\n",
    "#This is a comment\n",
    "#written in\n",
    "#more than just one line\n",
    "print(\"Hello, World!\")\n",
    "\n",
    "\"\"\"\n",
    "This is a comment\n",
    "written in\n",
    "more than just one line\n",
    "\"\"\"\n",
    "print(\"Hello, World!\")"
   ]
  },
  {
   "cell_type": "markdown",
   "id": "2ea86c4e-1e11-41dc-8fee-dc3f2b711204",
   "metadata": {},
   "source": [
    "### Analisis:\n",
    "Kode program tersebut menunjukkan dua cara membuat komentar banyak baris (multiline) dalam Python.\n",
    "Cara pertama menggunakan beberapa tanda pagar (#) di setiap baris, sedangkan cara kedua menggunakan tiga tanda kutip (\"\"\" ... \"\"\").\n",
    "Kedua cara tersebut digunakan untuk memberikan penjelasan lebih panjang pada kode tanpa memengaruhi jalannya program. Program tetap menampilkan teks “Hello, World!” ke layar."
   ]
  },
  {
   "cell_type": "markdown",
   "id": "241e2803-805c-4ab9-8a51-69d504bf423e",
   "metadata": {},
   "source": [
    "## Percobaan Python Variables"
   ]
  },
  {
   "cell_type": "code",
   "execution_count": 4,
   "id": "428fbe19-02d7-4e9d-9f04-14ec0430e6af",
   "metadata": {},
   "outputs": [
    {
     "name": "stdout",
     "output_type": "stream",
     "text": [
      "5\n",
      "John\n",
      "5\n",
      "John\n"
     ]
    }
   ],
   "source": [
    "#1.Python Variables\n",
    "#Creating Variables\n",
    "x = 5\n",
    "y = \"John\"\n",
    "print(x)\n",
    "print(y)\n",
    "\n",
    "x = 5\n",
    "y = \"John\"\n",
    "print(x)\n",
    "print(y)"
   ]
  },
  {
   "cell_type": "markdown",
   "id": "04b7dc08-74db-4934-a956-b6e1631e0abc",
   "metadata": {},
   "source": [
    "### Analisis:\n",
    "Kode program tersebut menunjukkan cara membuat dan menggunakan variabel dalam Python. Variabel x diberi nilai 5 (tipe data numerik), dan y diberi nilai \"John\" (tipe data string). Fungsi print() digunakan untuk menampilkan nilai dari masing-masing variabel ke layar. Kedua bagian kode memiliki hasil yang sama, yaitu menampilkan 5 dan John."
   ]
  },
  {
   "cell_type": "code",
   "execution_count": 5,
   "id": "87a75975-5a3f-4794-b362-e8d24445aa06",
   "metadata": {},
   "outputs": [],
   "source": [
    "#Casting\n",
    "x = str(3)    # x will be '3'\n",
    "y = int(3)    # y will be 3\n",
    "z = float(3)  # z will be 3.0"
   ]
  },
  {
   "cell_type": "markdown",
   "id": "c25e9cea-ee35-4d47-b3d5-7b3c4082da6a",
   "metadata": {},
   "source": [
    "### Analisis:\n",
    "Kode program tersebut menunjukkan proses casting (konversi tipe data) dalam Python. Nilai 3 dikonversi menjadi beberapa tipe data berbeda: x menjadi string '3', y menjadi integer 3, dan z menjadi float 3.0. Casting digunakan untuk mengubah tipe data sesuai kebutuhan program."
   ]
  },
  {
   "cell_type": "code",
   "execution_count": 6,
   "id": "f65ad46d-e0e9-4c13-824b-f7b3b8f5cb60",
   "metadata": {},
   "outputs": [
    {
     "name": "stdout",
     "output_type": "stream",
     "text": [
      "<class 'int'>\n",
      "<class 'str'>\n"
     ]
    }
   ],
   "source": [
    "#Get the Type\n",
    "x = 5\n",
    "y = \"John\"\n",
    "print(type(x))\n",
    "print(type(y))"
   ]
  },
  {
   "cell_type": "markdown",
   "id": "70b4e5ba-314f-45e0-b24e-0a62d227dbe0",
   "metadata": {},
   "source": [
    "### Analisis:\n",
    "Kode program tersebut menunjukkan cara memeriksa tipe data variabel menggunakan fungsi type(). Variabel x bernilai 5 bertipe integer, sedangkan y bernilai \"John\" bertipe string. Fungsi print() digunakan untuk menampilkan tipe data masing-masing variabel ke layar."
   ]
  },
  {
   "cell_type": "code",
   "execution_count": 7,
   "id": "7a2cf0a0-2407-454c-8fa0-7a2756c0fcae",
   "metadata": {},
   "outputs": [],
   "source": [
    "#Single or Double Quotes?\n",
    "x = \"John\"\n",
    "# is the same as\n",
    "x = 'John'"
   ]
  },
  {
   "cell_type": "markdown",
   "id": "76b1df46-1e97-467d-8921-111331f48ee5",
   "metadata": {},
   "source": [
    "### Analisis:\n",
    "Kode program tersebut menunjukkan bahwa Python memperbolehkan penggunaan tanda kutip tunggal (') maupun ganda (\") untuk membuat string. Kedua penulisan x = \"John\" dan x = 'John' memiliki arti yang sama, yaitu variabel x menyimpan teks \"John\"."
   ]
  },
  {
   "cell_type": "code",
   "execution_count": 8,
   "id": "5e3c65ca-ad1c-41bc-a748-6078457c2f5b",
   "metadata": {},
   "outputs": [],
   "source": [
    "#Case-Sensitive\n",
    "a = 4\n",
    "A = \"Sally\"\n",
    "#A will not overwrite a"
   ]
  },
  {
   "cell_type": "markdown",
   "id": "5da2ddbd-a71b-4aa9-a43b-7c2e77855a57",
   "metadata": {},
   "source": [
    "### Analisis:\n",
    "Kode program tersebut menunjukkan bahwa Python bersifat case-sensitive, artinya huruf besar dan kecil dianggap berbeda. Variabel a dan A adalah dua variabel yang berbeda — a bernilai 4, sedangkan A bernilai \"Sally\". Nilai A tidak akan menimpa nilai a."
   ]
  },
  {
   "cell_type": "code",
   "execution_count": 9,
   "id": "bf3f89bc-3123-4693-9d22-67320c6d4d4a",
   "metadata": {},
   "outputs": [],
   "source": [
    "#2.Variable Names\n",
    "#Variable Names\n",
    "myvar = \"John\"\n",
    "my_var = \"John\"\n",
    "_my_var = \"John\"\n",
    "myVar = \"John\"\n",
    "MYVAR = \"John\"\n",
    "myvar2 = \"John\""
   ]
  },
  {
   "cell_type": "markdown",
   "id": "325adc0e-771b-4c2c-974a-9ebc8b0ea70f",
   "metadata": {},
   "source": [
    "### Analisis:\n",
    "Kode program tersebut menunjukkan contoh penulisan nama variabel yang benar dalam Python. Semua variabel (myvar, my_var, _my_var, myVar, MYVAR, dan myvar2) valid karena mengikuti aturan penamaan, yaitu hanya menggunakan huruf, angka, dan garis bawah (_), serta diawali dengan huruf atau garis bawah."
   ]
  },
  {
   "cell_type": "code",
   "execution_count": 10,
   "id": "77a48537-d0c5-42bc-b92b-30e375f78c73",
   "metadata": {},
   "outputs": [
    {
     "ename": "SyntaxError",
     "evalue": "invalid decimal literal (2185399839.py, line 1)",
     "output_type": "error",
     "traceback": [
      "\u001b[1;36m  Cell \u001b[1;32mIn[10], line 1\u001b[1;36m\u001b[0m\n\u001b[1;33m    2myvar = \"John\"\u001b[0m\n\u001b[1;37m    ^\u001b[0m\n\u001b[1;31mSyntaxError\u001b[0m\u001b[1;31m:\u001b[0m invalid decimal literal\n"
     ]
    }
   ],
   "source": [
    "2myvar = \"John\"\n",
    "my-var = \"John\"\n",
    "my var = \"John\""
   ]
  },
  {
   "cell_type": "markdown",
   "id": "0f4a5c33-2e5e-4e1d-8986-57d3a7543d3b",
   "metadata": {},
   "source": [
    "### Analisis:\n",
    "Kode program tersebut menunjukkan contoh penulisan variabel yang salah dalam Python. Variabel 2myvar, my-var, dan my var tidak valid karena melanggar aturan penamaan. Dalam Python, nama variabel tidak boleh diawali angka, tidak boleh mengandung tanda hubung (-), dan tidak boleh mengandung spasi. Akibatnya, program akan menampilkan error saat dijalankan."
   ]
  },
  {
   "cell_type": "code",
   "execution_count": null,
   "id": "e20c1730-2877-4462-99ca-6f624111ec74",
   "metadata": {},
   "outputs": [],
   "source": [
    "#3.Multi Words Variable Names\n",
    "#Camel Case\n",
    "myVariableName = \"John\"\n",
    "\n",
    "#Pascal Case\n",
    "MyVariableName = \"John\"\n",
    "\n",
    "#Snake Case\n",
    "my_variable_name = \"John\""
   ]
  },
  {
   "cell_type": "markdown",
   "id": "5d7151d9-e7b2-40d2-b445-cf65a7b25916",
   "metadata": {},
   "source": [
    "### Analisis:\n",
    "Kode program tersebut menunjukkan tiga gaya penulisan variabel dengan beberapa kata dalam Python. Camel Case (myVariableName) menggunakan huruf kecil di awal dan huruf besar di setiap kata berikutnya. Pascal Case (MyVariableName) menuliskan setiap kata dengan huruf awal besar. Sedangkan Snake Case (my_variable_name) memisahkan setiap kata dengan garis bawah. Ketiganya valid digunakan, namun Snake Case paling umum dipakai sesuai konvensi penulisan Python (PEP 8)."
   ]
  },
  {
   "cell_type": "code",
   "execution_count": null,
   "id": "f888cfb7-dd06-4955-8d3c-40b3635a716a",
   "metadata": {},
   "outputs": [],
   "source": [
    "#4.Assign Multiple Values\n",
    "#Many Values to Multiple Variables\n",
    "x, y, z = \"Orange\", \"Banana\", \"Cherry\"\n",
    "print(x)\n",
    "print(y)\n",
    "print(z)"
   ]
  },
  {
   "cell_type": "markdown",
   "id": "8c81ede9-6c49-45a3-975d-9aca9d38f44f",
   "metadata": {},
   "source": [
    "### Analisis:\n",
    "Kode program tersebut menunjukkan cara memberikan beberapa nilai ke beberapa variabel sekaligus dalam satu baris. Variabel x, y, dan z masing-masing diberi nilai \"Orange\", \"Banana\", dan \"Cherry\". Fungsi print() digunakan untuk menampilkan nilai setiap variabel ke layar. Teknik ini membuat penulisan kode lebih singkat dan efisien."
   ]
  },
  {
   "cell_type": "code",
   "execution_count": null,
   "id": "99fd540f-d6e7-4eae-be67-8842c5e0e13f",
   "metadata": {},
   "outputs": [],
   "source": [
    "#One Value to Multiple Variables\n",
    "x = y = z = \"Orange\"\n",
    "print(x)\n",
    "print(y)\n",
    "print(z)"
   ]
  },
  {
   "cell_type": "markdown",
   "id": "8d85273d-fcb4-4978-826f-42609246d3f0",
   "metadata": {},
   "source": [
    "### Analisis:\n",
    "Kode program tersebut menunjukkan cara memberikan satu nilai yang sama ke beberapa variabel sekaligus. Nilai \"Orange\" disimpan ke dalam variabel x, y, dan z secara bersamaan. Saat ketiganya dicetak dengan print(), hasilnya sama karena ketiganya memiliki nilai yang identik, yaitu \"Orange\"."
   ]
  },
  {
   "cell_type": "code",
   "execution_count": null,
   "id": "f9d7fc05-0a98-41f3-8038-777da1505d62",
   "metadata": {},
   "outputs": [],
   "source": [
    "#Unpack a Collection\n",
    "fruits = [\"apple\", \"banana\", \"cherry\"]\n",
    "x, y, z = fruits\n",
    "print(x)\n",
    "print(y)\n",
    "print(z)"
   ]
  },
  {
   "cell_type": "markdown",
   "id": "2219b8d0-e979-4364-9d6f-ddbb21d54b6b",
   "metadata": {},
   "source": [
    "### Analisis:\n",
    "Kode program tersebut menunjukkan cara unpacking koleksi (daftar) ke dalam beberapa variabel. List fruits berisi tiga elemen: \"apple\", \"banana\", dan \"cherry\". Melalui perintah x, y, z = fruits, setiap elemen list disimpan ke variabel secara berurutan: x berisi \"apple\", y berisi \"banana\", dan z berisi \"cherry\". Fungsi print() kemudian menampilkan masing-masing nilai tersebut ke layar."
   ]
  },
  {
   "cell_type": "code",
   "execution_count": 12,
   "id": "3a3bb836-e609-40a1-935f-a9a91adc0198",
   "metadata": {},
   "outputs": [
    {
     "name": "stdout",
     "output_type": "stream",
     "text": [
      "Python is awesome\n",
      "Python is awesome\n",
      "Python is awesome\n",
      "15\n",
      "5 John\n"
     ]
    }
   ],
   "source": [
    "#5.Output Variables\n",
    "#Output Variables\n",
    "x = \"Python is awesome\"\n",
    "print(x)\n",
    "\n",
    "x = \"Python\"\n",
    "y = \"is\"\n",
    "z = \"awesome\"\n",
    "print(x, y, z)\n",
    "\n",
    "x = \"Python \"\n",
    "y = \"is \"\n",
    "z = \"awesome\"\n",
    "print(x + y + z)\n",
    "\n",
    "x = 5\n",
    "y = 10\n",
    "print(x + y)\n",
    "\n",
    "x = 5\n",
    "y = \"John\"\n",
    "print(x, y)"
   ]
  },
  {
   "cell_type": "markdown",
   "id": "e99610d7-150a-4c43-94a0-fade0089b864",
   "metadata": {},
   "source": [
    "### Analisis:\n",
    "Kode program tersebut menunjukkan berbagai cara menampilkan variabel dan menggabungkan nilai di Python. Pada bagian awal, variabel x berisi string dan ditampilkan dengan print(x). Kemudian, beberapa string (x, y, z) dapat dicetak bersamaan menggunakan koma (,) atau digabung menjadi satu kalimat menggunakan operator +. Saat x dan y berupa angka, operator + berfungsi untuk menjumlahkan nilainya. Namun, jika x bertipe angka dan y bertipe string, operator + tidak bisa digunakan, sehingga print(x, y) digunakan agar Python menampilkan keduanya tanpa error."
   ]
  },
  {
   "cell_type": "code",
   "execution_count": 13,
   "id": "ce48fd55-da27-45fc-8752-9added7cab35",
   "metadata": {},
   "outputs": [
    {
     "ename": "TypeError",
     "evalue": "unsupported operand type(s) for +: 'int' and 'str'",
     "output_type": "error",
     "traceback": [
      "\u001b[1;31m---------------------------------------------------------------------------\u001b[0m",
      "\u001b[1;31mTypeError\u001b[0m                                 Traceback (most recent call last)",
      "Cell \u001b[1;32mIn[13], line 3\u001b[0m\n\u001b[0;32m      1\u001b[0m x \u001b[38;5;241m=\u001b[39m \u001b[38;5;241m5\u001b[39m\n\u001b[0;32m      2\u001b[0m y \u001b[38;5;241m=\u001b[39m \u001b[38;5;124m\"\u001b[39m\u001b[38;5;124mJohn\u001b[39m\u001b[38;5;124m\"\u001b[39m\n\u001b[1;32m----> 3\u001b[0m \u001b[38;5;28mprint\u001b[39m(x \u001b[38;5;241m+\u001b[39m y)\n",
      "\u001b[1;31mTypeError\u001b[0m: unsupported operand type(s) for +: 'int' and 'str'"
     ]
    }
   ],
   "source": [
    "x = 5\n",
    "y = \"John\"\n",
    "print(x + y)"
   ]
  },
  {
   "cell_type": "markdown",
   "id": "e714d3c8-1f57-4628-a6d7-65cd4d1c2903",
   "metadata": {},
   "source": [
    "### Analisis:\n",
    "Kode program tersebut akan menyebabkan error karena Python tidak dapat menambahkan angka (int) dengan teks (str) menggunakan operator +. Variabel x bertipe integer dengan nilai 5, sedangkan y bertipe string dengan nilai \"John\". Untuk menampilkannya bersama, harus menggunakan koma (print(x, y)) atau mengubah tipe data agar sama, misalnya print(str(x) + y)."
   ]
  },
  {
   "cell_type": "code",
   "execution_count": 14,
   "id": "ee3eef86-f5c6-4cf8-b004-206138a67561",
   "metadata": {},
   "outputs": [
    {
     "name": "stdout",
     "output_type": "stream",
     "text": [
      "Python is awesome\n",
      "Python is fantastic\n",
      "Python is awesome\n"
     ]
    }
   ],
   "source": [
    "#6.Global Variables\n",
    "#Global Variables\n",
    "x = \"awesome\"\n",
    "def myfunc():\n",
    "  print(\"Python is \" + x)\n",
    "myfunc()\n",
    "\n",
    "x = \"awesome\"\n",
    "def myfunc():\n",
    "  x = \"fantastic\"\n",
    "  print(\"Python is \" + x)\n",
    "myfunc()\n",
    "print(\"Python is \" + x)"
   ]
  },
  {
   "cell_type": "markdown",
   "id": "d0cc5ab0-6901-42ca-9604-9786a486ab0c",
   "metadata": {},
   "source": [
    "### Analisis:\n",
    "Kode program tersebut menunjukkan perbedaan variabel global dan lokal. Variabel x di luar fungsi bersifat global dan dapat diakses dari mana saja. Namun, jika x dideklarasikan ulang di dalam fungsi, ia menjadi variabel lokal yang nilainya hanya berlaku di dalam fungsi tersebut."
   ]
  },
  {
   "cell_type": "code",
   "execution_count": null,
   "id": "2824896b-badc-43d5-9feb-c74c9c618d7b",
   "metadata": {},
   "outputs": [],
   "source": [
    "#The global Keyword\n",
    "def myfunc():\n",
    "  global x\n",
    "  x = \"fantastic\"\n",
    "myfunc()\n",
    "print(\"Python is \" + x)\n",
    "\n",
    "x = \"awesome\"\n",
    "def myfunc():\n",
    "  global x\n",
    "  x = \"fantastic\"\n",
    "myfunc()\n",
    "print(\"Python is \" + x)"
   ]
  },
  {
   "cell_type": "markdown",
   "id": "56689b1e-d806-4b43-ad00-9b68bc4ad062",
   "metadata": {},
   "source": [
    "### Analisis:\n",
    "Kode program tersebut menunjukkan penggunaan kata kunci global dalam Python. Dengan global, variabel yang dibuat di dalam fungsi menjadi variabel global sehingga dapat diakses dan diubah nilainya di luar fungsi. Pada contoh pertama dan kedua, fungsi myfunc() menetapkan x = \"fantastic\" sebagai variabel global, sehingga saat dicetak di luar fungsi, hasilnya adalah “Python is fantastic”."
   ]
  },
  {
   "cell_type": "markdown",
   "id": "44ce5791-3a11-4aeb-af71-c3b338ea6c73",
   "metadata": {},
   "source": [
    "## Percobaan Python Data Types"
   ]
  },
  {
   "cell_type": "code",
   "execution_count": null,
   "id": "3bd2acde-28f1-4719-ba7e-251f95be62d5",
   "metadata": {},
   "outputs": [],
   "source": [
    "#Getting the Data Type\n",
    "x = 5\n",
    "print(type(x))"
   ]
  },
  {
   "cell_type": "markdown",
   "id": "8b2cec99-344e-444f-a135-4913395fa11d",
   "metadata": {},
   "source": [
    "### Analisis:\n",
    "Kode program tersebut menunjukkan cara memeriksa tipe data sebuah variabel menggunakan fungsi type(). Variabel x bernilai 5, sehingga print(type(x)) akan menampilkan hasil <class 'int'>, yang berarti x bertipe integer."
   ]
  },
  {
   "cell_type": "markdown",
   "id": "03370e78-d0f9-4156-bbe0-cba0b278c52f",
   "metadata": {},
   "source": [
    "## Percobaan Python Numbers"
   ]
  },
  {
   "cell_type": "code",
   "execution_count": null,
   "id": "0c06731a-1023-4bb2-b260-239dc07a13fb",
   "metadata": {},
   "outputs": [],
   "source": [
    "#Python Numbers\n",
    "x = 1    # int\n",
    "y = 2.8  # float\n",
    "z = 1j   # complex\n",
    "\n",
    "print(type(x))\n",
    "print(type(y))\n",
    "print(type(z))"
   ]
  },
  {
   "cell_type": "markdown",
   "id": "97595308-8142-4cac-a06a-91c719173dbe",
   "metadata": {},
   "source": [
    "### Analisis:\n",
    "Kode program tersebut menunjukkan tiga jenis tipe data numerik dalam Python, yaitu int (bilangan bulat), float (bilangan desimal), dan complex (bilangan kompleks). Variabel x, y, dan z masing-masing menyimpan nilai 1, 2.8, dan 1j. Fungsi type() digunakan untuk menampilkan tipe data dari setiap variabel tersebut."
   ]
  },
  {
   "cell_type": "code",
   "execution_count": null,
   "id": "6fa27a45-155d-475c-a20e-a4853b58cbc6",
   "metadata": {},
   "outputs": [],
   "source": [
    "#Int\n",
    "x = 1\n",
    "y = 35656222554887711\n",
    "z = -3255522\n",
    "\n",
    "print(type(x))\n",
    "print(type(y))\n",
    "print(type(z))"
   ]
  },
  {
   "cell_type": "markdown",
   "id": "e6946c1d-0b22-4fb1-a222-bd5dea4f535b",
   "metadata": {},
   "source": [
    "### Analisis:\n",
    "Kode program tersebut menunjukkan contoh tipe data int (integer) dalam Python. Variabel x, y, dan z masing-masing menyimpan bilangan bulat positif, sangat besar, dan negatif. Fungsi type() digunakan untuk memastikan ketiganya bertipe int, karena Python dapat menangani bilangan bulat dengan ukuran tak terbatas."
   ]
  },
  {
   "cell_type": "code",
   "execution_count": null,
   "id": "d145cd1d-d0a9-41d7-a093-3fbf13bdd1f3",
   "metadata": {},
   "outputs": [],
   "source": [
    "#Float\n",
    "x = 1.10\n",
    "y = 1.0\n",
    "z = -35.59\n",
    "print(type(x))\n",
    "print(type(y))\n",
    "print(type(z))\n",
    "\n",
    "x = 35e3\n",
    "y = 12E4\n",
    "z = -87.7e100\n",
    "print(type(x))\n",
    "print(type(y))\n",
    "print(type(z))"
   ]
  },
  {
   "cell_type": "markdown",
   "id": "6a61d050-a4d0-4b08-a962-b5f138ae742e",
   "metadata": {},
   "source": [
    "### Analisis:\n",
    "Kode program tersebut menunjukkan contoh tipe data float (bilangan desimal) dalam Python. Variabel x, y, dan z menyimpan angka dengan titik desimal serta bilangan dalam notasi ilmiah (e atau E), yang mewakili pangkat sepuluh. Semua variabel tersebut bertipe float, baik menggunakan desimal biasa maupun notasi eksponensial."
   ]
  },
  {
   "cell_type": "code",
   "execution_count": null,
   "id": "6efc6625-2993-41b4-9210-c42eb33e2743",
   "metadata": {},
   "outputs": [],
   "source": [
    "#Complex\n",
    "x = 3+5j\n",
    "y = 5j\n",
    "z = -5j\n",
    "print(type(x))\n",
    "print(type(y))\n",
    "print(type(z))"
   ]
  },
  {
   "cell_type": "markdown",
   "id": "1447ba82-ebbd-4b1f-a503-433e05451853",
   "metadata": {},
   "source": [
    "### Analisis:\n",
    "Kode program tersebut menunjukkan contoh tipe data complex (bilangan kompleks) dalam Python. Variabel x, y, dan z masing-masing menyimpan bilangan dengan bagian imajiner (j). Fungsi type() digunakan untuk menampilkan tipe datanya, dan hasilnya untuk ketiganya adalah <class 'complex'>."
   ]
  },
  {
   "cell_type": "code",
   "execution_count": null,
   "id": "c22abbdd-8c6c-4779-8f60-21d3ed763d6f",
   "metadata": {},
   "outputs": [],
   "source": [
    "#Type Conversion\n",
    "x = 1    # int\n",
    "y = 2.8  # float\n",
    "z = 1j   # complex\n",
    "\n",
    "#convert from int to float:\n",
    "a = float(x)\n",
    "\n",
    "#convert from float to int:\n",
    "b = int(y)\n",
    "\n",
    "#convert from int to complex:\n",
    "c = complex(x)\n",
    "\n",
    "print(a)\n",
    "print(b)\n",
    "print(c)\n",
    "\n",
    "print(type(a))\n",
    "print(type(b))\n",
    "print(type(c))"
   ]
  },
  {
   "cell_type": "markdown",
   "id": "902ea28c-b63f-43c8-96bf-3d7edfc85e84",
   "metadata": {},
   "source": [
    "### Analisis:\n",
    "Kode program tersebut menunjukkan konversi tipe data numerik (type conversion) dalam Python. Variabel x, y, dan z masing-masing bertipe int, float, dan complex. Nilai x dikonversi menjadi float pada variabel a, y dikonversi menjadi int pada variabel b, dan x dikonversi menjadi complex pada variabel c. Fungsi print() menampilkan hasil konversi beserta tipe datanya menggunakan type()."
   ]
  },
  {
   "cell_type": "code",
   "execution_count": null,
   "id": "0a706e51-568d-4fda-bde6-efd614ecdcc4",
   "metadata": {},
   "outputs": [],
   "source": [
    "#Random Number\n",
    "import random\n",
    "\n",
    "print(random.randrange(1, 10))"
   ]
  },
  {
   "cell_type": "markdown",
   "id": "9a9535b9-e37c-47f9-9780-cacc4f635e1d",
   "metadata": {},
   "source": [
    "### Analisis:\n",
    "Kode program tersebut menunjukkan cara menghasilkan angka acak menggunakan modul random di Python. Fungsi random.randrange(1, 10) akan menghasilkan bilangan bulat acak antara 1 hingga 9 (batas atas 10 tidak termasuk). Setiap kali program dijalankan, hasilnya bisa berbeda."
   ]
  },
  {
   "cell_type": "markdown",
   "id": "bd1bcc72-ccf8-4863-91bb-55ea29fb09b1",
   "metadata": {},
   "source": [
    "## Percobaan Python Casting"
   ]
  },
  {
   "cell_type": "code",
   "execution_count": null,
   "id": "5986ffc8-24eb-4e3f-bbcc-c28fe707c2a8",
   "metadata": {},
   "outputs": [],
   "source": [
    "#Specify a Variable Type\n",
    "#Integers\n",
    "x = int(1)   # x will be 1\n",
    "y = int(2.8) # y will be 2\n",
    "z = int(\"3\") # z will be 3\n",
    "\n",
    "#Floats\n",
    "x = float(1)     # x will be 1.0\n",
    "y = float(2.8)   # y will be 2.8\n",
    "z = float(\"3\")   # z will be 3.0\n",
    "w = float(\"4.2\") # w will be 4.2\n",
    "\n",
    "#Strings\n",
    "x = str(\"s1\") # x will be 's1'\n",
    "y = str(2)    # y will be '2'\n",
    "z = str(3.0)  # z will be '3.0'"
   ]
  },
  {
   "cell_type": "markdown",
   "id": "e535f1d5-3dff-4a27-9fae-a9e9e5e96221",
   "metadata": {},
   "source": [
    "### Analisis:\n",
    "Kode program tersebut menunjukkan cara menentukan tipe data variabel secara eksplisit (casting) di Python. Dengan fungsi int(), float(), dan str(), nilai dapat dikonversi menjadi bilangan bulat, bilangan desimal, atau string. Contohnya, int(\"3\") menghasilkan angka 3, float(\"4.2\") menghasilkan 4.2, dan str(2) menghasilkan teks '2'. Teknik ini berguna untuk memastikan tipe data sesuai kebutuhan program."
   ]
  },
  {
   "cell_type": "markdown",
   "id": "5da31564-414a-435d-b039-23640f04b166",
   "metadata": {},
   "source": [
    "## Percobaan Python Strings"
   ]
  },
  {
   "cell_type": "code",
   "execution_count": null,
   "id": "273f00d7-8a4e-44ce-997b-4fefc8388c57",
   "metadata": {},
   "outputs": [],
   "source": [
    "#1.Python Strings\n",
    "#Strings\n",
    "print(\"Hello\")\n",
    "print('Hello')"
   ]
  },
  {
   "cell_type": "markdown",
   "id": "dc674636-2f55-4a79-aac2-4ab78c843930",
   "metadata": {},
   "source": [
    "### Analisis:\n",
    "Kode program tersebut menunjukkan bahwa Python dapat menggunakan tanda kutip tunggal (') maupun ganda (\") untuk membuat string. Kedua perintah print(\"Hello\") dan print('Hello') menghasilkan output yang sama, yaitu Hello."
   ]
  },
  {
   "cell_type": "code",
   "execution_count": null,
   "id": "0bfdb9e8-1db6-45dd-8a06-7b89335b18b6",
   "metadata": {},
   "outputs": [],
   "source": [
    "#Quotes Inside Quotes\n",
    "print(\"It's alright\")\n",
    "print(\"He is called 'Johnny'\")\n",
    "print('He is called \"Johnny\"')"
   ]
  },
  {
   "cell_type": "markdown",
   "id": "ac3401e8-ab3d-4b0c-b7a8-1b07303914e6",
   "metadata": {},
   "source": [
    "### Analisis:\n",
    "Kode program tersebut menunjukkan cara menggunakan tanda kutip di dalam string. Python memperbolehkan kombinasi tanda kutip tunggal dan ganda agar tidak terjadi konflik. Misalnya, \"It's alright\" menggunakan kutip ganda di luar agar kutip tunggal di dalam tidak dianggap penutup string, dan sebaliknya. Semua perintah tersebut menghasilkan teks dengan tanda kutip sesuai penulisannya."
   ]
  },
  {
   "cell_type": "code",
   "execution_count": null,
   "id": "7b9e21d6-905a-40ef-8651-adb3ad3946a4",
   "metadata": {},
   "outputs": [],
   "source": [
    "#Assign String to a Variable\n",
    "a = \"Hello\"\n",
    "print(a)"
   ]
  },
  {
   "cell_type": "markdown",
   "id": "b0c96dfe-59f8-412c-873d-c6e2282a4097",
   "metadata": {},
   "source": [
    "### Analisis:\n",
    "Kode program tersebut menunjukkan cara menyimpan string ke dalam variabel. Variabel a berisi teks \"Hello\", kemudian ditampilkan menggunakan fungsi print(). Hasil output yang muncul di layar adalah Hello."
   ]
  },
  {
   "cell_type": "code",
   "execution_count": null,
   "id": "2b402b51-4a3e-45aa-8127-31d0636acbf5",
   "metadata": {},
   "outputs": [],
   "source": [
    "#Multiline Strings\n",
    "#double quotes\n",
    "a = \"\"\"Lorem ipsum dolor sit amet,\n",
    "consectetur adipiscing elit,\n",
    "sed do eiusmod tempor incididunt\n",
    "ut labore et dolore magna aliqua.\"\"\"\n",
    "print(a)\n",
    "\n",
    "#single quotes\n",
    "a = '''Lorem ipsum dolor sit amet,\n",
    "consectetur adipiscing elit,\n",
    "sed do eiusmod tempor incididunt\n",
    "ut labore et dolore magna aliqua.'''\n",
    "print(a)"
   ]
  },
  {
   "cell_type": "markdown",
   "id": "d8c30e74-243b-4d9d-acc3-c452560f7b5e",
   "metadata": {},
   "source": [
    "### Analisis:\n",
    "Kode program tersebut menunjukkan cara membuat string dengan beberapa baris (multiline string) di Python. String dapat ditulis menggunakan tiga tanda kutip ganda (\"\"\") atau tiga tanda kutip tunggal ('''). Teks di dalamnya dapat berisi beberapa baris tanpa perlu karakter khusus untuk pindah baris. Kedua cara tersebut valid dan menghasilkan output berupa paragraf teks yang sama persis."
   ]
  },
  {
   "cell_type": "code",
   "execution_count": null,
   "id": "97fea891-7966-4e79-a442-5e5121936d60",
   "metadata": {},
   "outputs": [],
   "source": [
    "#Strings are Arrays\n",
    "a = \"Hello, World!\"\n",
    "print(a[1])"
   ]
  },
  {
   "cell_type": "markdown",
   "id": "5ca7d402-4367-4432-b4e6-5a5fd05df745",
   "metadata": {},
   "source": [
    "### Analisis:\n",
    "Kode program tersebut menunjukkan bahwa string dalam Python bersifat seperti array (urutan karakter). Setiap karakter memiliki indeks mulai dari 0. Pada contoh ini, a[1] mengambil karakter pada indeks ke-1 dari string \"Hello, World!\", yaitu huruf ‘e’."
   ]
  },
  {
   "cell_type": "code",
   "execution_count": null,
   "id": "4d4af32c-103e-4b33-ade4-6d3b7259a8b5",
   "metadata": {},
   "outputs": [],
   "source": [
    "#Looping Through a String\n",
    "for x in \"banana\":\n",
    "  print(x)"
   ]
  },
  {
   "cell_type": "markdown",
   "id": "b3749807-b205-493e-aefb-f7faf841b52a",
   "metadata": {},
   "source": [
    "### Analisis:\n",
    "Kode program tersebut menunjukkan cara melakukan perulangan pada setiap karakter dalam string. Menggunakan for x in \"banana\", Python akan mengeksekusi blok kode untuk setiap karakter dalam string \"banana\" secara berurutan. Hasilnya, setiap huruf dicetak di baris terpisah."
   ]
  },
  {
   "cell_type": "code",
   "execution_count": null,
   "id": "d7b28787-7cdf-425f-8f59-95870ad93e41",
   "metadata": {},
   "outputs": [],
   "source": [
    "#String Length\n",
    "a = \"Hello, World!\"\n",
    "print(len(a))"
   ]
  },
  {
   "cell_type": "markdown",
   "id": "a503fb8c-da55-403a-815e-3a48c3558259",
   "metadata": {},
   "source": [
    "### Analisis:\n",
    "Kode program tersebut menunjukkan cara mengetahui panjang string menggunakan fungsi len(). Variabel a berisi string \"Hello, World!\", sehingga len(a) mengembalikan jumlah karakter termasuk spasi dan tanda baca, yaitu 13."
   ]
  },
  {
   "cell_type": "code",
   "execution_count": null,
   "id": "ba663a8f-8e0a-458f-8d8a-84336721a9d6",
   "metadata": {},
   "outputs": [],
   "source": [
    "#Check String\n",
    "txt = \"The best things in life are free!\"\n",
    "print(\"free\" in txt)\n",
    "\n",
    "txt = \"The best things in life are free!\"\n",
    "if \"free\" in txt:\n",
    "  print(\"Yes, 'free' is present.\")"
   ]
  },
  {
   "cell_type": "markdown",
   "id": "5532a88c-e579-4de0-b213-2f70577d9488",
   "metadata": {},
   "source": [
    "### Analisis:\n",
    "Kode program tersebut menunjukkan cara memeriksa keberadaan substring di dalam string. Dengan perintah \"free\" in txt, Python akan mengembalikan True jika kata \"free\" ada dalam variabel txt. Selain itu, penggunaan if \"free\" in txt: memungkinkan program mengeksekusi blok kode tertentu, misalnya menampilkan pesan \"Yes, 'free' is present.\" saat substring ditemukan."
   ]
  },
  {
   "cell_type": "code",
   "execution_count": null,
   "id": "853ceddf-9b0c-46ec-8e55-0cdee2705e97",
   "metadata": {},
   "outputs": [],
   "source": [
    "#Check if NOT\n",
    "txt = \"The best things in life are free!\"\n",
    "print(\"expensive\" not in txt)\n",
    "\n",
    "txt = \"The best things in life are free!\"\n",
    "if \"expensive\" not in txt:\n",
    "  print(\"No, 'expensive' is NOT present.\")"
   ]
  },
  {
   "cell_type": "markdown",
   "id": "381d3bf2-f2ec-4224-bc1a-c7f64628c540",
   "metadata": {},
   "source": [
    "### Analisis:\n",
    "Kode program tersebut menunjukkan cara memeriksa apakah sebuah substring tidak ada dalam string. Pernyataan \"expensive\" not in txt mengembalikan True jika kata \"expensive\" tidak ditemukan di variabel txt. Dengan menggunakan if \"expensive\" not in txt:, program dapat mengeksekusi blok kode tertentu, misalnya menampilkan pesan \"No, 'expensive' is NOT present.\" saat substring tidak ada."
   ]
  },
  {
   "cell_type": "code",
   "execution_count": null,
   "id": "aceb3ed9-9967-45cf-b1d0-647dd928bfaa",
   "metadata": {},
   "outputs": [],
   "source": [
    "#2.Slicing Strings\n",
    "#Slicing\n",
    "b = \"Hello, World!\"\n",
    "print(b[2:5])"
   ]
  },
  {
   "cell_type": "markdown",
   "id": "736630d0-c244-43ec-9a89-a4bee0514ee8",
   "metadata": {},
   "source": [
    "### Analisis:\n",
    "Kode program tersebut menunjukkan cara mengambil potongan (slicing) dari string di Python. Sintaks b[2:5] mengambil karakter dari indeks 2 sampai 4 (indeks akhir 5 tidak termasuk) dari string \"Hello, World!\". Hasilnya adalah \"llo\"."
   ]
  },
  {
   "cell_type": "code",
   "execution_count": null,
   "id": "1ab96334-1a4c-4b74-be5b-758fdd0dde97",
   "metadata": {},
   "outputs": [],
   "source": [
    "#Slice From the Start\n",
    "b = \"Hello, World!\"\n",
    "print(b[:5])"
   ]
  },
  {
   "cell_type": "markdown",
   "id": "7981c17d-01cc-4a18-bf45-01d2a2ea7dd2",
   "metadata": {},
   "source": [
    "### Analisis:\n",
    "Kode program tersebut menunjukkan cara mengambil potongan string dari awal hingga indeks tertentu. Sintaks b[:5] mengambil karakter dari indeks 0 sampai 4 dari string \"Hello, World!\". Hasilnya adalah \"Hello\"."
   ]
  },
  {
   "cell_type": "code",
   "execution_count": null,
   "id": "36f820b2-b79f-4dee-ae09-f80ecc00a08e",
   "metadata": {},
   "outputs": [],
   "source": [
    "#Slice To the End\n",
    "b = \"Hello, World!\"\n",
    "print(b[2:])"
   ]
  },
  {
   "cell_type": "markdown",
   "id": "1318744c-7d9c-4cb4-ab76-6251b5938358",
   "metadata": {},
   "source": [
    "### Analisis:\n",
    "Kode program tersebut menunjukkan cara mengambil potongan string dari indeks tertentu hingga akhir. Sintaks b[2:] mengambil karakter mulai dari indeks 2 sampai akhir dari string \"Hello, World!\". Hasilnya adalah \"llo, World!\"."
   ]
  },
  {
   "cell_type": "code",
   "execution_count": null,
   "id": "cfec4f44-ccef-4b71-83c6-54dfea7db710",
   "metadata": {},
   "outputs": [],
   "source": [
    "#Negative Indexing\n",
    "b = \"Hello, World!\"\n",
    "print(b[-5:-2])"
   ]
  },
  {
   "cell_type": "markdown",
   "id": "e8228ad9-8f9e-46c8-9617-4f0ef05aa6df",
   "metadata": {},
   "source": [
    "### Analisis:\n",
    "Kode program tersebut menunjukkan cara mengakses potongan string menggunakan indeks negatif. Indeks negatif menghitung dari akhir string, dengan -1 sebagai karakter terakhir. Sintaks b[-5:-2] mengambil karakter dari indeks -5 sampai -3 dari string \"Hello, World!\". Hasilnya adalah \"orl\"."
   ]
  },
  {
   "cell_type": "code",
   "execution_count": null,
   "id": "a6f748e9-9038-4042-a090-e5777c9a0998",
   "metadata": {},
   "outputs": [],
   "source": [
    "#3.Modify Strings\n",
    "#Upper Case\n",
    "a = \"Hello, World!\"\n",
    "print(a.upper())"
   ]
  },
  {
   "cell_type": "markdown",
   "id": "351f249b-6534-4eb7-a0ce-fbce1799ee45",
   "metadata": {},
   "source": [
    "### Analisis:\n",
    "Kode program tersebut menunjukkan cara mengubah semua huruf dalam string menjadi huruf kapital (upper case). Fungsi a.upper() mengubah string \"Hello, World!\" menjadi \"HELLO, WORLD!\" tanpa mengubah nilai asli variabel a."
   ]
  },
  {
   "cell_type": "code",
   "execution_count": null,
   "id": "2de5d1c5-2d63-4ff6-8e8a-7709eb38f25c",
   "metadata": {},
   "outputs": [],
   "source": [
    "#Lower Case\n",
    "a = \"Hello, World!\"\n",
    "print(a.lower())"
   ]
  },
  {
   "cell_type": "markdown",
   "id": "c88055ae-96d3-4af4-816c-3c72a2e6bf9c",
   "metadata": {},
   "source": [
    "### Analisis:\n",
    "Kode program tersebut menunjukkan cara mengubah semua huruf dalam string menjadi huruf kecil (lower case). Fungsi a.lower() mengubah string \"Hello, World!\" menjadi \"hello, world!\" tanpa mengubah nilai asli variabel a."
   ]
  },
  {
   "cell_type": "code",
   "execution_count": null,
   "id": "d01e99a1-ce0d-4e9b-8b3d-37a20bce1391",
   "metadata": {},
   "outputs": [],
   "source": [
    "#Remove Whitespace\n",
    "a = \" Hello, World! \"\n",
    "print(a.strip()) # returns \"Hello, World!\""
   ]
  },
  {
   "cell_type": "markdown",
   "id": "e7d12ea0-626f-4d22-a131-26b87657d438",
   "metadata": {},
   "source": [
    "### Analisis:\n",
    "Kode program tersebut menunjukkan cara menghapus spasi atau karakter whitespace di awal dan akhir string menggunakan metode strip(). Pada contoh ini, a.strip() mengubah string \" Hello, World! \" menjadi \"Hello, World!\" tanpa mengubah spasi di tengah teks."
   ]
  },
  {
   "cell_type": "code",
   "execution_count": null,
   "id": "f9f1b3a0-9049-41c2-aafa-67cf34d2c281",
   "metadata": {},
   "outputs": [],
   "source": [
    "#Replace String\n",
    "a = \"Hello, World!\"\n",
    "print(a.replace(\"H\", \"J\"))"
   ]
  },
  {
   "cell_type": "markdown",
   "id": "92f17ee9-43dc-43f0-9fec-b4771f616575",
   "metadata": {},
   "source": [
    "### Analisis:\n",
    "Kode program tersebut menunjukkan cara mengganti karakter atau substring dalam string menggunakan metode replace(). Perintah a.replace(\"H\", \"J\") mengganti huruf \"H\" menjadi \"J\" pada string \"Hello, World!\", sehingga hasilnya adalah \"Jello, World!\"."
   ]
  },
  {
   "cell_type": "code",
   "execution_count": null,
   "id": "2dda139e-b363-4ae0-8b59-3595ba82f181",
   "metadata": {},
   "outputs": [],
   "source": [
    "#Split String\n",
    "a = \"Hello, World!\"\n",
    "print(a.split(\",\")) # returns ['Hello', ' World!']"
   ]
  },
  {
   "cell_type": "markdown",
   "id": "67287700-6930-4ff6-89b1-563b8c47bb93",
   "metadata": {},
   "source": [
    "### Analisis:\n",
    "Kode program tersebut menunjukkan cara memisahkan string menjadi list berdasarkan pemisah tertentu menggunakan metode split(). Perintah a.split(\",\") memisahkan string \"Hello, World!\" di setiap koma, sehingga menghasilkan list ['Hello', ' World!']."
   ]
  },
  {
   "cell_type": "code",
   "execution_count": null,
   "id": "4a6ba8d1-e273-4134-a73e-d36992ead25c",
   "metadata": {},
   "outputs": [],
   "source": [
    "#4.String Concatenation\n",
    "a = \"Hello\"\n",
    "b = \"World\"\n",
    "c = a + b\n",
    "print(c)\n",
    "\n",
    "a = \"Hello\"\n",
    "b = \"World\"\n",
    "c = a + \" \" + b\n",
    "print(c)"
   ]
  },
  {
   "cell_type": "markdown",
   "id": "a886d9ba-fe9a-46ec-b566-363ff84be71c",
   "metadata": {},
   "source": [
    "### Analisis:\n",
    "Kode program tersebut menunjukkan cara menggabungkan (concatenate) string di Python menggunakan operator +. Pada contoh pertama, a + b menghasilkan \"HelloWorld\", sedangkan pada contoh kedua, a + \" \" + b menambahkan spasi di antara kedua string sehingga hasilnya \"Hello World\"."
   ]
  },
  {
   "cell_type": "code",
   "execution_count": null,
   "id": "1093423e-bb96-4d76-8d44-23026cc27a98",
   "metadata": {},
   "outputs": [],
   "source": [
    "#5.Format - Strings\n",
    "#String Format\n",
    "age = 36\n",
    "#This will produce an error:\n",
    "txt = \"My name is John, I am \" + age\n",
    "print(txt)"
   ]
  },
  {
   "cell_type": "markdown",
   "id": "f98ca441-e332-4a0c-b66e-35027a3053ee",
   "metadata": {},
   "source": [
    "### Analisis:\n",
    "Kode program tersebut menunjukkan pentingnya tipe data saat menggabungkan string. Variabel age bertipe integer, sehingga mencoba menggabungkannya langsung dengan string menggunakan + akan menimbulkan error. Untuk menggabungkan, angka harus dikonversi menjadi string terlebih dahulu, misalnya menggunakan str(age) atau metode string formatting."
   ]
  },
  {
   "cell_type": "code",
   "execution_count": null,
   "id": "b6692122-4b2d-431a-bcf4-c9bc8255ca2b",
   "metadata": {},
   "outputs": [],
   "source": [
    "#F-Strings\n",
    "age = 36\n",
    "txt = f\"My name is John, I am {age}\"\n",
    "print(txt)"
   ]
  },
  {
   "cell_type": "markdown",
   "id": "c5dbb350-4a5a-4352-b4b7-a5d963008ff1",
   "metadata": {},
   "source": [
    "### Analisis:\n",
    "Kode program tersebut menunjukkan cara menggabungkan variabel ke dalam string menggunakan f-string di Python. Dengan menambahkan huruf f di depan string dan menempatkan variabel di dalam kurung kurawal {}, variabel age secara otomatis disisipkan ke dalam teks. Hasilnya adalah \"My name is John, I am 36\"."
   ]
  },
  {
   "cell_type": "code",
   "execution_count": null,
   "id": "e40c4d2b-9e75-4911-9f01-563268c7f93f",
   "metadata": {},
   "outputs": [],
   "source": [
    "#Placeholders and Modifiers\n",
    "price = 59\n",
    "txt = f\"The price is {price} dollars\"\n",
    "print(txt)\n",
    "\n",
    "price = 59\n",
    "txt = f\"The price is {price:.2f} dollars\"\n",
    "print(txt)\n",
    "\n",
    "txt = f\"The price is {20 * 59} dollars\"\n",
    "print(txt)"
   ]
  },
  {
   "cell_type": "markdown",
   "id": "25974144-f57c-490b-b136-e8411dfd8047",
   "metadata": {},
   "source": [
    "### Analisis:\n",
    "Kode program tersebut menunjukkan penggunaan f-string dengan placeholder dan modifier di Python. F-string memungkinkan variabel atau ekspresi disisipkan langsung ke dalam string dengan {}. Contohnya, f\"The price is {price} dollars\" menyisipkan nilai variabel price, f\"The price is {price:.2f} dollars\" menampilkan angka dengan 2 digit desimal, dan f\"The price is {20 * 59} dollars\" langsung mengeksekusi ekspresi di dalam {} sehingga hasil perkalian ditampilkan di string."
   ]
  },
  {
   "cell_type": "code",
   "execution_count": null,
   "id": "2c46c36d-9122-40e5-a4dc-6fa9032ce6ba",
   "metadata": {},
   "outputs": [],
   "source": [
    "#6.Escape Characters\n",
    "txt = \"We are the so-called \"Vikings\" from the north.\"\n",
    "\n",
    "txt = \"We are the so-called \\\"Vikings\\\" from the north.\""
   ]
  },
  {
   "cell_type": "markdown",
   "id": "95888941-9105-47c7-9056-58902b6c1feb",
   "metadata": {},
   "source": [
    "### Analisis:\n",
    "Kode program tersebut menunjukkan penggunaan karakter escape (\\) dalam string untuk memasukkan tanda kutip di dalam teks tanpa menimbulkan error. String \"We are the so-called \\\"Vikings\\\" from the north.\" menggunakan \\\" agar tanda kutip ganda di sekitar kata \"Vikings\" tetap dikenali sebagai bagian dari string, bukan penutup string."
   ]
  },
  {
   "cell_type": "markdown",
   "id": "702f02c3-e8c3-48b4-8ce0-18209259de56",
   "metadata": {},
   "source": [
    "## Percobaan 7 Python Booleans"
   ]
  },
  {
   "cell_type": "code",
   "execution_count": null,
   "id": "675646cd-cb1e-4667-8b9d-405d99fbd877",
   "metadata": {},
   "outputs": [],
   "source": [
    "#Boolean Values\n",
    "print(10 > 9)\n",
    "print(10 == 9)\n",
    "print(10 < 9)\n",
    "\n",
    "a = 200\n",
    "b = 33\n",
    "if b > a:\n",
    "  print(\"b is greater than a\")\n",
    "else:\n",
    "  print(\"b is not greater than a\")"
   ]
  },
  {
   "cell_type": "markdown",
   "id": "2f3addac-32da-4c89-8a5b-227729c766f8",
   "metadata": {},
   "source": [
    "### Analisis:\n",
    "Kode program tersebut menunjukkan nilai boolean dan penggunaannya untuk kontrol alur. Perbandingan seperti 10 > 9 menghasilkan True/False, dan percabangan if menggunakan nilai boolean untuk menentukan blok kode yang dijalankan, misalnya menampilkan \"b is not greater than a\"."
   ]
  },
  {
   "cell_type": "code",
   "execution_count": null,
   "id": "7745f834-ecb5-46d6-9c6c-fec22051fcfa",
   "metadata": {},
   "outputs": [],
   "source": [
    "#Evaluate Values and Variables\n",
    "print(bool(\"Hello\"))\n",
    "print(bool(15))\n",
    "\n",
    "x = \"Hello\"\n",
    "y = 15\n",
    "print(bool(x))\n",
    "print(bool(y))"
   ]
  },
  {
   "cell_type": "markdown",
   "id": "427a2ab4-400f-4c9d-9d1f-de8d896e9d28",
   "metadata": {},
   "source": [
    "### Analisis:\n",
    "Kode program tersebut menunjukkan cara mengubah nilai atau variabel menjadi boolean menggunakan fungsi bool(). String atau angka nonkosong, seperti \"Hello\" dan 15, dikonversi menjadi True. Variabel yang berisi nilai tersebut juga menghasilkan True saat dievaluasi dengan bool()."
   ]
  },
  {
   "cell_type": "code",
   "execution_count": null,
   "id": "15952038-4d86-4af6-ba31-9eaa35a42d3e",
   "metadata": {},
   "outputs": [],
   "source": [
    "#Most Values are True\n",
    "bool(\"abc\")\n",
    "bool(123)\n",
    "bool([\"apple\", \"cherry\", \"banana\"])"
   ]
  },
  {
   "cell_type": "markdown",
   "id": "a9c7e5fc-c535-423b-8e4f-3db7aa79fc47",
   "metadata": {},
   "source": [
    "### Analisis:\n",
    "Kode program tersebut menunjukkan bahwa kebanyakan nilai dalam Python dianggap True saat dikonversi menjadi boolean dengan bool(). Contohnya, string \"abc\", angka 123, dan list [\"apple\", \"cherry\", \"banana\"] semuanya menghasilkan True karena tidak kosong atau bernilai nol."
   ]
  },
  {
   "cell_type": "code",
   "execution_count": null,
   "id": "5ca39415-ac7d-46a8-b62a-5b15608f8c54",
   "metadata": {},
   "outputs": [],
   "source": [
    "#Some Values are False\n",
    "bool(False)\n",
    "bool(None)\n",
    "bool(0)\n",
    "bool(\"\")\n",
    "bool(())\n",
    "bool([])\n",
    "bool({})\n",
    "\n",
    "class myclass():\n",
    "  def __len__(self):\n",
    "    return 0\n",
    "myobj = myclass()\n",
    "print(bool(myobj))"
   ]
  },
  {
   "cell_type": "markdown",
   "id": "8a620440-2ebe-4025-ac2b-b874778f4878",
   "metadata": {},
   "source": [
    "### Analisis:\n",
    "Kode program tersebut menunjukkan bahwa beberapa nilai dalam Python dianggap False saat dikonversi menjadi boolean menggunakan bool(). Nilai-nilai seperti False, None, 0, string kosong \"\", tuple kosong (), list kosong [], dan dictionary kosong {} menghasilkan False. Selain itu, objek dari kelas yang metode __len__()-nya mengembalikan 0 juga dianggap False, seperti contoh myobj."
   ]
  },
  {
   "cell_type": "code",
   "execution_count": null,
   "id": "5706b3ed-0090-4eed-9d4e-13afa5276837",
   "metadata": {},
   "outputs": [],
   "source": [
    "#Functions can Return a Boolean\n",
    "def myFunction() :\n",
    "  return True\n",
    "print(myFunction())\n",
    "\n",
    "def myFunction() :\n",
    "  return True\n",
    "if myFunction():\n",
    "  print(\"YES!\")\n",
    "else:\n",
    "  print(\"NO!\")\n",
    "\n",
    "x = 200\n",
    "print(isinstance(x, int))"
   ]
  },
  {
   "cell_type": "markdown",
   "id": "bebc8700-6c0e-4341-9138-8199d82b8244",
   "metadata": {},
   "source": [
    "### Analisis:\n",
    "Kode program tersebut menunjukkan bahwa fungsi dapat mengembalikan nilai boolean. Fungsi myFunction() mengembalikan True, yang dapat langsung dicetak atau digunakan dalam percabangan if untuk mengeksekusi blok kode tertentu, seperti menampilkan \"YES!\". Contoh lain, isinstance(x, int) mengembalikan True jika variabel x bertipe integer, sehingga menunjukkan penggunaan boolean untuk memeriksa tipe data."
   ]
  },
  {
   "cell_type": "markdown",
   "id": "84b3f3c0-4a5d-4d74-a538-300b820e1f93",
   "metadata": {},
   "source": [
    "## Percobaan 8 Python Operators"
   ]
  },
  {
   "cell_type": "code",
   "execution_count": null,
   "id": "c6e2711b-609a-47cb-a741-ae16b8157598",
   "metadata": {},
   "outputs": [],
   "source": [
    "#1.Python Operators\n",
    "print(10 + 5)\n",
    "\n",
    "sum1 = 100 + 50      # 150 (100 + 50)\n",
    "sum2 = sum1 + 250    # 400 (150 + 250)\n",
    "sum3 = sum2 + sum2   # 800 (400 + 400)"
   ]
  },
  {
   "cell_type": "markdown",
   "id": "c526b497-a690-4c11-afda-7d19dbf13a54",
   "metadata": {},
   "source": [
    "### Analisis:\n",
    "Kode program tersebut menunjukkan penggunaan operator aritmatika + dalam Python untuk menjumlahkan angka. Contoh pertama langsung menampilkan hasil penjumlahan 10 + 5. Selanjutnya, variabel sum1, sum2, dan sum3 digunakan untuk menyimpan hasil penjumlahan bertahap, yaitu 150, 400, dan 800, yang menunjukkan bagaimana operasi aritmatika dapat digunakan secara berurutan."
   ]
  },
  {
   "cell_type": "code",
   "execution_count": null,
   "id": "1a7eb9a5-2931-4530-941b-e07770d1d6fe",
   "metadata": {},
   "outputs": [],
   "source": [
    "#2.Arithmetic Operators\n",
    "x = 15\n",
    "y = 4\n",
    "\n",
    "print(x + y)\n",
    "print(x - y)\n",
    "print(x * y)\n",
    "print(x / y)\n",
    "print(x % y)\n",
    "print(x ** y)\n",
    "print(x // y)"
   ]
  },
  {
   "cell_type": "markdown",
   "id": "b4d1cc7e-0a5b-4e23-b3bd-dab8d54ee29e",
   "metadata": {},
   "source": [
    "### Analisis:\n",
    "Kode program tersebut menunjukkan penggunaan operator aritmatika dasar dalam Python. Dengan variabel x = 15 dan y = 4, Python dapat melakukan penjumlahan (+) menghasilkan 19, pengurangan (-) menghasilkan 11, perkalian (*) menghasilkan 60, pembagian (/) menghasilkan 3.75, sisa bagi (%) menghasilkan 3, pangkat (**) menghasilkan 50625, dan pembagian bulat (//) menghasilkan 3. Contoh ini memperlihatkan cara Python melakukan berbagai operasi matematika dasar."
   ]
  },
  {
   "cell_type": "code",
   "execution_count": null,
   "id": "4b5a11e4-35f7-42c5-a604-ad78f789c590",
   "metadata": {},
   "outputs": [],
   "source": [
    "#Division in Python\n",
    "x = 12\n",
    "y = 5\n",
    "print(x / y)\n",
    "\n",
    "x = 12\n",
    "y = 5\n",
    "print(x // y)"
   ]
  },
  {
   "cell_type": "markdown",
   "id": "77abac02-fca9-4ad9-951d-b03b696e359d",
   "metadata": {},
   "source": [
    "### Analisis:\n",
    "Kode program tersebut menunjukkan perbedaan antara pembagian biasa (/) dan pembagian bulat (//) di Python. Operator / menghasilkan nilai desimal (floating point), sehingga 12 / 5 menghasilkan 2.4, sedangkan // menghasilkan pembagian bulat, sehingga 12 // 5 menghasilkan 2 dengan membuang sisa bagi."
   ]
  },
  {
   "cell_type": "code",
   "execution_count": null,
   "id": "5c227494-99d2-4253-bc79-843829a912de",
   "metadata": {},
   "outputs": [],
   "source": [
    "#3.Assignment Operators\n",
    "#The Walrus Operator\n",
    "numbers = [1, 2, 3, 4, 5]\n",
    "count = len(numbers)\n",
    "if count > 3:\n",
    "    print(f\"List has {count} elements\")\n",
    "\n",
    "if (count := len(numbers)) > 3:\n",
    "    print(f\"List has {count} elements\")"
   ]
  },
  {
   "cell_type": "markdown",
   "id": "a83f7f3b-02eb-47cd-ab08-c11d98db128a",
   "metadata": {},
   "source": [
    "### Analisis:\n",
    "Kode program tersebut menunjukkan penggunaan operator penugasan (=) dan walrus operator (:=) dalam Python. Variabel count menyimpan panjang list numbers menggunakan len(). Pada contoh pertama, penugasan biasa dilakukan sebelum if. Pada contoh kedua, walrus operator memungkinkan penugasan dan pengecekan kondisi dilakukan sekaligus dalam satu baris, sehingga count tetap menyimpan panjang list dan kondisi > 3 dapat langsung dievaluasi."
   ]
  },
  {
   "cell_type": "code",
   "execution_count": null,
   "id": "4f4ed721-70ae-4edd-b702-e6666716e016",
   "metadata": {},
   "outputs": [],
   "source": [
    "#4.Comparison Operators\n",
    "x = 5\n",
    "y = 3\n",
    "\n",
    "print(x == y)\n",
    "print(x != y)\n",
    "print(x > y)\n",
    "print(x < y)\n",
    "print(x >= y)\n",
    "print(x <= y)"
   ]
  },
  {
   "cell_type": "markdown",
   "id": "bc597f7b-d854-4320-98ad-4bd171a506e6",
   "metadata": {},
   "source": [
    "### Analisis:\n",
    "Kode program tersebut menunjukkan penggunaan operator perbandingan dalam Python. Dengan variabel x = 5 dan y = 3, operator seperti == (sama dengan), != (tidak sama dengan), > (lebih besar), < (lebih kecil), >= (lebih besar atau sama dengan), dan <= (lebih kecil atau sama dengan) menghasilkan nilai True atau False tergantung kebenaran perbandingan."
   ]
  },
  {
   "cell_type": "code",
   "execution_count": null,
   "id": "574e8f5b-1cc2-4f7a-840e-f47b5b10d379",
   "metadata": {},
   "outputs": [],
   "source": [
    "#Chaining Comparison Operators\n",
    "x = 5\n",
    "\n",
    "print(1 < x < 10)\n",
    "\n",
    "print(1 < x and x < 10)"
   ]
  },
  {
   "cell_type": "markdown",
   "id": "295ecee4-d08a-47ce-bd2c-bd879ce8408f",
   "metadata": {},
   "source": [
    "### Analisis:\n",
    "Kode program tersebut menunjukkan cara menggunakan operator perbandingan berantai (chaining) dalam Python. Pernyataan 1 < x < 10 mengecek apakah x berada di antara 1 dan 10, menghasilkan True. Cara ini setara dengan 1 < x and x < 10, namun lebih ringkas dan mudah dibaca."
   ]
  },
  {
   "cell_type": "code",
   "execution_count": null,
   "id": "d8b86ede-fd15-4fb5-b209-f047b0ee34f7",
   "metadata": {},
   "outputs": [],
   "source": [
    "#5.Logical Operators\n",
    "x = 5\n",
    "print(x > 0 and x < 10)\n",
    "\n",
    "x = 5\n",
    "print(x < 5 or x > 10)\n",
    "\n",
    "x = 5\n",
    "print(not(x > 3 and x < 10))"
   ]
  },
  {
   "cell_type": "markdown",
   "id": "b27cc680-f1f2-407f-b23d-db16cb31b653",
   "metadata": {},
   "source": [
    "### Analisis:\n",
    "Kode program tersebut menunjukkan penggunaan operator logika dalam Python.\n",
    "\n",
    "and mengembalikan True jika kedua kondisi benar, misalnya x > 0 and x < 10 → True.\n",
    "\n",
    "or mengembalikan True jika salah satu kondisi benar, misalnya x < 5 or x > 10 → False.\n",
    "\n",
    "not membalikkan nilai boolean, sehingga not(x > 3 and x < 10) → False karena kondisi di dalam () awalnya True."
   ]
  },
  {
   "cell_type": "code",
   "execution_count": null,
   "id": "4042e4bb-f3a4-4a31-926b-147671c0aa6c",
   "metadata": {},
   "outputs": [],
   "source": [
    "#6.Identity Operators\n",
    "x = [\"apple\", \"banana\"]\n",
    "y = [\"apple\", \"banana\"]\n",
    "z = x\n",
    "print(x is z)\n",
    "print(x is y)\n",
    "print(x == y)\n",
    "\n",
    "x = [\"apple\", \"banana\"]\n",
    "y = [\"apple\", \"banana\"]\n",
    "print(x is not y)"
   ]
  },
  {
   "cell_type": "markdown",
   "id": "61b5651e-0dc0-457b-a7a8-3352acfa65e7",
   "metadata": {},
   "source": [
    "### Analisis:\n",
    "Kode program tersebut menunjukkan penggunaan operator identitas (is dan is not) dalam Python.\n",
    "\n",
    "is mengecek apakah dua variabel merujuk ke objek yang sama di memori. Contohnya, x is z → True karena z menunjuk ke objek yang sama dengan x, sedangkan x is y → False karena meskipun isi sama, keduanya adalah objek berbeda.\n",
    "\n",
    "== membandingkan nilai atau isi objek, sehingga x == y → True.\n",
    "\n",
    "is not mengecek apakah dua variabel bukan objek yang sama, misalnya x is not y → True."
   ]
  },
  {
   "cell_type": "code",
   "execution_count": null,
   "id": "36331fc3-18da-44c7-870d-b156a98407cb",
   "metadata": {},
   "outputs": [],
   "source": [
    "#Difference Between is and ==\n",
    "x = [1, 2, 3]\n",
    "y = [1, 2, 3]\n",
    "print(x == y)\n",
    "print(x is y)"
   ]
  },
  {
   "cell_type": "markdown",
   "id": "91edb7d2-a26e-480f-a52a-c3f2a8cf48b9",
   "metadata": {},
   "source": [
    "### Analisis:\n",
    "Kode program tersebut menunjukkan perbedaan antara == dan is dalam Python. Operator == membandingkan nilai atau isi objek, sehingga x == y → True karena kedua list memiliki elemen yang sama. Sebaliknya, is membandingkan identitas objek di memori, sehingga x is y → False karena x dan y adalah objek berbeda meskipun isinya sama."
   ]
  },
  {
   "cell_type": "code",
   "execution_count": null,
   "id": "16c7f8c7-82f8-42af-9f5a-5bebe065f51e",
   "metadata": {},
   "outputs": [],
   "source": [
    "#7.Membership Operators\n",
    "fruits = [\"apple\", \"banana\", \"cherry\"]\n",
    "print(\"banana\" in fruits)\n",
    "\n",
    "fruits = [\"apple\", \"banana\", \"cherry\"]\n",
    "print(\"pineapple\" not in fruits)"
   ]
  },
  {
   "cell_type": "markdown",
   "id": "1716d681-2ea0-4ef7-9c08-bf3092b25701",
   "metadata": {},
   "source": [
    "### Analisis:\n",
    "Kode program tersebut menunjukkan penggunaan operator keanggotaan (in dan not in) dalam Python. Operator in mengecek apakah sebuah nilai terdapat dalam sebuah koleksi, misalnya \"banana\" in fruits → True. Sebaliknya, not in mengecek apakah nilai tidak ada di koleksi, misalnya \"pineapple\" not in fruits → True."
   ]
  },
  {
   "cell_type": "code",
   "execution_count": null,
   "id": "8006dfcc-a020-48b0-8a6d-9e89c9da5819",
   "metadata": {},
   "outputs": [],
   "source": [
    "#Membership in Strings\n",
    "text = \"Hello World\"\n",
    "print(\"H\" in text)\n",
    "print(\"hello\" in text)\n",
    "print(\"z\" not in text)"
   ]
  },
  {
   "cell_type": "markdown",
   "id": "f9438385-1314-4cf0-a945-8b3e68c8c3f9",
   "metadata": {},
   "source": [
    "### Analisis:\n",
    "Kode program tersebut menunjukkan penggunaan operator keanggotaan (in dan not in) pada string. Pernyataan \"H\" in text menghasilkan True karena karakter \"H\" ada di string, \"hello\" in text menghasilkan False karena Python membedakan huruf besar dan kecil, dan \"z\" not in text menghasilkan True karena karakter \"z\" tidak ada di string \"Hello World\"."
   ]
  },
  {
   "cell_type": "code",
   "execution_count": null,
   "id": "56e9b795-438d-4854-b8d6-5feff831744b",
   "metadata": {},
   "outputs": [],
   "source": [
    "#8.Bitwise Operators\n",
    "print(6 & 3)\n",
    "\n",
    "print(6 | 3)\n",
    "\n",
    "print(6 ^ 3)"
   ]
  },
  {
   "cell_type": "markdown",
   "id": "57310fc8-42d1-477c-8c13-4e3289530d74",
   "metadata": {},
   "source": [
    "### Analisis:\n",
    "Kode program tersebut menunjukkan penggunaan operator bitwise dalam Python.\n",
    "\n",
    "& (AND) membandingkan setiap bit kedua angka dan mengembalikan 1 jika keduanya 1, misalnya 6 & 3 → 2.\n",
    "\n",
    "| (OR) mengembalikan 1 jika salah satu bit 1, misalnya 6 | 3 → 7.\n",
    "\n",
    "^ (XOR) mengembalikan 1 jika hanya satu bit 1, misalnya 6 ^ 3 → 5.\n",
    "\n",
    "Operator ini bekerja pada representasi biner angka."
   ]
  },
  {
   "cell_type": "code",
   "execution_count": null,
   "id": "c334a492-088a-4851-874f-b13bdd8cd584",
   "metadata": {},
   "outputs": [],
   "source": [
    "#9.Operator Precedence\n",
    "print((6 + 3) - (6 + 3))\n",
    "\n",
    "print(100 + 5 * 3)"
   ]
  },
  {
   "cell_type": "markdown",
   "id": "2513043d-bd8a-444c-a43f-72bb4a2e20a3",
   "metadata": {},
   "source": [
    "### Analisis:\n",
    "Kode program tersebut menunjukkan pengaruh prioritas operator (operator precedence) dalam Python. Python mengikuti aturan matematika standar: operasi di dalam kurung dijalankan terlebih dahulu, kemudian perkalian/divisi, baru penjumlahan/pengurangan. Contohnya, (6 + 3) - (6 + 3) → 0 karena penjumlahan dalam kurung dihitung terlebih dahulu, dan 100 + 5 * 3 → 115 karena perkalian dilakukan sebelum penjumlahan."
   ]
  },
  {
   "cell_type": "code",
   "execution_count": null,
   "id": "4cfed969-08ce-4f8b-9adf-e9dd37f90dd7",
   "metadata": {},
   "outputs": [],
   "source": [
    "#Left-to-Right Evaluation\n",
    "print(5 + 4 - 7 + 3)"
   ]
  },
  {
   "cell_type": "markdown",
   "id": "5fb94129-525b-4d2a-86ec-105eb75b5217",
   "metadata": {},
   "source": [
    "### Analisis:\n",
    "Kode program tersebut menunjukkan pengaruh prioritas operator (operator precedence) dalam Python. Python mengikuti aturan matematika standar: operasi di dalam kurung dijalankan terlebih dahulu, kemudian perkalian/divisi, baru penjumlahan/pengurangan. Contohnya, (6 + 3) - (6 + 3) → 0 karena penjumlahan dalam kurung dihitung terlebih dahulu, dan 100 + 5 * 3 → 115 karena perkalian dilakukan sebelum penjumlahan."
   ]
  },
  {
   "cell_type": "markdown",
   "id": "e876abbe-52ff-4731-b9a7-f0871e74e98b",
   "metadata": {},
   "source": [
    "## Percobaan 9 Python If Statement"
   ]
  },
  {
   "cell_type": "code",
   "execution_count": null,
   "id": "cbefa815-c14b-448c-8516-7d27e491a7e8",
   "metadata": {},
   "outputs": [],
   "source": [
    "#1.Python Conditions and If statements\n",
    "a = 33\n",
    "b = 200\n",
    "if b > a:\n",
    "  print(\"b is greater than a\")"
   ]
  },
  {
   "cell_type": "markdown",
   "id": "7f6cb281-fb9e-4309-be4f-03ab079d3ee9",
   "metadata": {},
   "source": [
    "### Analisis:\n",
    "Kode program tersebut menunjukkan struktur kondisi if dalam Python. Kondisi b > a diperiksa, dan jika bernilai True, blok kode di dalam if dijalankan, sehingga menghasilkan output \"b is greater than a\"."
   ]
  },
  {
   "cell_type": "code",
   "execution_count": null,
   "id": "172d4320-0a46-4326-82ef-c28d28f40eaf",
   "metadata": {},
   "outputs": [],
   "source": [
    "#How If Statements Work\n",
    "number = 15\n",
    "if number > 0:\n",
    "  print(\"The number is positive\")"
   ]
  },
  {
   "cell_type": "markdown",
   "id": "e320d80e-9754-4f5c-9c86-fc2c7cf4676d",
   "metadata": {},
   "source": [
    "### Analisis:\n",
    "Kode program tersebut menunjukkan cara kerja pernyataan if dalam Python. Kondisi number > 0 diperiksa, dan karena bernilai True, blok kode di dalam if dijalankan sehingga menampilkan output \"The number is positive\"."
   ]
  },
  {
   "cell_type": "code",
   "execution_count": null,
   "id": "8c8abead-f0b8-4b08-a003-7fd651ba92dd",
   "metadata": {},
   "outputs": [],
   "source": [
    "#2.Python Elif Statement\n",
    "#The Elif Keyword\n",
    "a = 33\n",
    "b = 33\n",
    "if b > a:\n",
    "  print(\"b is greater than a\")\n",
    "elif a == b:\n",
    "  print(\"a and b are equal\")"
   ]
  },
  {
   "cell_type": "markdown",
   "id": "707bf008-ff91-499c-ae91-b193103a56b3",
   "metadata": {},
   "source": [
    "### Analisis:\n",
    "Kode program tersebut menunjukkan penggunaan elif dalam Python untuk menambahkan kondisi tambahan pada percabangan. Jika kondisi if b > a False, Python akan memeriksa kondisi elif a == b. Karena a dan b sama, blok elif dijalankan sehingga menghasilkan output \"a and b are equal\"."
   ]
  },
  {
   "cell_type": "code",
   "execution_count": null,
   "id": "66d0e0dd-5bfd-47f2-ae56-032abcb16e23",
   "metadata": {},
   "outputs": [],
   "source": [
    "#Multiple Elif Statements\n",
    "score = 75\n",
    "\n",
    "if score >= 90:\n",
    "  print(\"Grade: A\")\n",
    "elif score >= 80:\n",
    "  print(\"Grade: B\")\n",
    "elif score >= 70:\n",
    "  print(\"Grade: C\")\n",
    "elif score >= 60:\n",
    "  print(\"Grade: D\")"
   ]
  },
  {
   "cell_type": "markdown",
   "id": "dbd45bd1-2653-4f95-8e42-43bd3d480b5e",
   "metadata": {},
   "source": [
    "### Analisis:\n",
    "Kode program tersebut menunjukkan penggunaan beberapa pernyataan elif berturut-turut dalam Python untuk menangani beberapa kondisi. Variabel score = 75 diperiksa secara berurutan: karena tidak memenuhi kondisi score >= 90 atau score >= 80, kondisi score >= 70 True, sehingga blok kode ini dijalankan dan menghasilkan output \"Grade: C\"."
   ]
  },
  {
   "cell_type": "code",
   "execution_count": null,
   "id": "129683ff-bd76-4d98-8d77-3cc1bb9597a6",
   "metadata": {},
   "outputs": [],
   "source": [
    "#How Elif Works\n",
    "age = 25\n",
    "\n",
    "if age < 13:\n",
    "  print(\"You are a child\")\n",
    "elif age < 20:\n",
    "  print(\"You are a teenager\")\n",
    "elif age < 65:\n",
    "  print(\"You are an adult\")\n",
    "elif age >= 65:\n",
    "  print(\"You are a senior\")"
   ]
  },
  {
   "cell_type": "markdown",
   "id": "670a5fd9-02f4-439a-8489-0bc9d631b4ba",
   "metadata": {},
   "source": [
    "### Analisis:\n",
    "Kode program tersebut menunjukkan cara kerja elif dalam percabangan Python. Variabel age = 25 diperiksa secara berurutan: kondisi age < 13 dan age < 20 False, sedangkan age < 65 True, sehingga blok kode ini dijalankan dan menghasilkan output \"You are an adult\". Hal ini memperlihatkan bagaimana elif memungkinkan program memeriksa beberapa kondisi secara berurutan."
   ]
  },
  {
   "cell_type": "code",
   "execution_count": null,
   "id": "0754e072-98f4-4344-a664-52b544417909",
   "metadata": {},
   "outputs": [],
   "source": [
    "#When to Use Elif\n",
    "day = 3\n",
    "\n",
    "if day == 1:\n",
    "  print(\"Monday\")\n",
    "elif day == 2:\n",
    "  print(\"Tuesday\")\n",
    "elif day == 3:\n",
    "  print(\"Wednesday\")\n",
    "elif day == 4:\n",
    "  print(\"Thursday\")\n",
    "elif day == 5:\n",
    "  print(\"Friday\")\n",
    "elif day == 6:\n",
    "  print(\"Saturday\")\n",
    "elif day == 7:\n",
    "  print(\"Sunday\")"
   ]
  },
  {
   "cell_type": "markdown",
   "id": "56572133-f1bd-42e2-bdc9-52fa2474d2c1",
   "metadata": {},
   "source": [
    "### Analisis:\n",
    "Kode program tersebut menunjukkan penggunaan elif untuk memilih satu dari banyak kondisi yang mungkin. Variabel day = 3 diperiksa secara berurutan, dan karena day == 3 True, blok kode ini dijalankan sehingga menampilkan output \"Wednesday\". Contoh ini memperlihatkan bagaimana elif memudahkan pemilihan kondisi spesifik tanpa menulis banyak if terpisah."
   ]
  },
  {
   "cell_type": "code",
   "execution_count": null,
   "id": "df2ff551-ea0b-4b44-9660-031f0c45e8d7",
   "metadata": {},
   "outputs": [],
   "source": [
    "#3.Python Else Statement\n",
    "#The Else Keyword\n",
    "a = 200\n",
    "b = 33\n",
    "if b > a:\n",
    "  print(\"b is greater than a\")\n",
    "elif a == b:\n",
    "  print(\"a and b are equal\")\n",
    "else:\n",
    "  print(\"a is greater than b\")"
   ]
  },
  {
   "cell_type": "markdown",
   "id": "66a54b03-61c3-4d48-9ca1-781c72f8a7fe",
   "metadata": {},
   "source": [
    "### Analisis:\n",
    "Kode program tersebut menunjukkan penggunaan else dalam percabangan Python. Jika kondisi if dan semua elif bernilai False, blok kode di dalam else dijalankan. Dengan a = 200 dan b = 33, kondisi b > a dan a == b False, sehingga else dijalankan dan menghasilkan output \"a is greater than b\"."
   ]
  },
  {
   "cell_type": "code",
   "execution_count": null,
   "id": "02a76446-49b7-4a73-a7c5-b96d7e3485f7",
   "metadata": {},
   "outputs": [],
   "source": [
    "#Else Without Elif\n",
    "a = 200\n",
    "b = 33\n",
    "if b > a:\n",
    "  print(\"b is greater than a\")\n",
    "else:\n",
    "  print(\"b is not greater than a\")"
   ]
  },
  {
   "cell_type": "markdown",
   "id": "2c9ca642-0c90-4258-a37d-6959cc2afc05",
   "metadata": {},
   "source": [
    "### Analisis:\n",
    "Kode program tersebut menunjukkan bahwa else dapat digunakan tanpa elif dalam percabangan Python. Jika kondisi if bernilai False, blok kode di dalam else dijalankan. Dengan a = 200 dan b = 33, kondisi b > a False, sehingga else dijalankan dan menghasilkan output \"b is not greater than a\"."
   ]
  },
  {
   "cell_type": "code",
   "execution_count": null,
   "id": "f839727f-e09a-48c2-b5bf-47ea9412dc0a",
   "metadata": {},
   "outputs": [],
   "source": [
    "#How Else Works\n",
    "number = 7\n",
    "\n",
    "if number % 2 == 0:\n",
    "  print(\"The number is even\")\n",
    "else:\n",
    "  print(\"The number is odd\")"
   ]
  },
  {
   "cell_type": "markdown",
   "id": "9914e314-fe04-498c-a89b-6eaafffce041",
   "metadata": {},
   "source": [
    "### Analisis:\n",
    "Kode program tersebut menunjukkan cara kerja else untuk menangani kondisi yang tidak terpenuhi oleh if. Variabel number = 7 diperiksa dengan kondisi number % 2 == 0; karena 7 bukan bilangan genap, kondisi False, sehingga blok else dijalankan dan menghasilkan output \"The number is odd\"."
   ]
  },
  {
   "cell_type": "code",
   "execution_count": null,
   "id": "bf1a98d4-369e-406d-ac17-88e8d98e158a",
   "metadata": {},
   "outputs": [],
   "source": [
    "#Complete If-Elif-Else Chain\n",
    "temperature = 22\n",
    "\n",
    "if temperature > 30:\n",
    "  print(\"It's hot outside!\")\n",
    "elif temperature > 20:\n",
    "  print(\"It's warm outside\")\n",
    "elif temperature > 10:\n",
    "  print(\"It's cool outside\")\n",
    "else:\n",
    "  print(\"It's cold outside!\")"
   ]
  },
  {
   "cell_type": "markdown",
   "id": "960b91d2-a908-414f-b988-8d2a39f59d6f",
   "metadata": {},
   "source": [
    "### Analisis:\n",
    "Kode program tersebut menunjukkan rantai lengkap percabangan if-elif-else dalam Python. Variabel temperature = 22 diperiksa secara berurutan: kondisi temperature > 30 False, tetapi temperature > 20 True, sehingga blok kode ini dijalankan dan menghasilkan output \"It's warm outside\". Contoh ini memperlihatkan bagaimana Python memilih satu blok kode dari beberapa kondisi yang saling eksklusif."
   ]
  },
  {
   "cell_type": "code",
   "execution_count": null,
   "id": "507de544-90d1-4782-aeeb-ed81f250b2d7",
   "metadata": {},
   "outputs": [],
   "source": [
    "#Else as Fallback\n",
    "username = \"Emil\"\n",
    "\n",
    "if len(username) > 0:\n",
    "  print(f\"Welcome, {username}!\")\n",
    "else:\n",
    "  print(\"Error: Username cannot be empty\")"
   ]
  },
  {
   "cell_type": "markdown",
   "id": "c93ee255-7f2b-4af1-a06b-cc8ecbf19901",
   "metadata": {},
   "source": [
    "### Analisis:\n",
    "Kode tersebut menggunakan pernyataan if-else untuk memeriksa apakah variabel username memiliki isi. Jika panjang username lebih dari nol, program menampilkan pesan sambutan dengan nama pengguna. Jika tidak, maka program menampilkan pesan kesalahan bahwa username tidak boleh kosong."
   ]
  },
  {
   "cell_type": "code",
   "execution_count": null,
   "id": "d29e9678-569d-4564-90d9-b0eb870837cf",
   "metadata": {},
   "outputs": [],
   "source": [
    "#4.Python Shorthand If\n",
    "#Short Hand If\n",
    "a = 5\n",
    "b = 2\n",
    "if a > b: print(\"a is greater than b\")"
   ]
  },
  {
   "cell_type": "markdown",
   "id": "86f7b8ac-2a3d-46ef-8f12-afbe344ac00f",
   "metadata": {},
   "source": [
    "### Analisis:\n",
    "Kode tersebut menggunakan shorthand if, yaitu bentuk singkat dari pernyataan if dalam satu baris. Program memeriksa apakah a lebih besar dari b; jika benar, maka langsung mencetak \"a is greater than b\"."
   ]
  },
  {
   "cell_type": "code",
   "execution_count": 15,
   "id": "9560b982-12c0-4101-b1d7-580c25c1843b",
   "metadata": {},
   "outputs": [
    {
     "name": "stdout",
     "output_type": "stream",
     "text": [
      "B\n"
     ]
    }
   ],
   "source": [
    "#Short Hand If ... Else\n",
    "a = 2\n",
    "b = 330\n",
    "print(\"A\") if a > b else print(\"B\")"
   ]
  },
  {
   "cell_type": "markdown",
   "id": "0ac5b630-4ede-47e7-b901-f4b216a15afa",
   "metadata": {},
   "source": [
    "### Analisis:\n",
    "Kode tersebut menggunakan shorthand if...else, yaitu bentuk singkat dari struktur if else dalam satu baris. Program membandingkan nilai a dan b; karena a lebih kecil dari b, maka output yang dicetak adalah \"B\"."
   ]
  },
  {
   "cell_type": "code",
   "execution_count": null,
   "id": "155dd69d-0f7b-44d6-adc5-c43ce6166c70",
   "metadata": {},
   "outputs": [],
   "source": [
    "#Assign a Value With If ... Else\n",
    "a = 10\n",
    "b = 20\n",
    "bigger = a if a > b else b\n",
    "print(\"Bigger is\", bigger)"
   ]
  },
  {
   "cell_type": "markdown",
   "id": "96f9ebe3-16a8-410b-af7e-6178a00787dc",
   "metadata": {},
   "source": [
    "### Analisis:\n",
    "Kode tersebut menggunakan shorthand if...else untuk penugasan nilai. Variabel bigger akan berisi nilai yang lebih besar antara a dan b. Karena a (10) lebih kecil dari b (20), maka nilai bigger adalah 20, sehingga outputnya: \"Bigger is 20\"."
   ]
  },
  {
   "cell_type": "code",
   "execution_count": null,
   "id": "098931cb-a8e0-4e2a-8c90-18a27ad07ccd",
   "metadata": {},
   "outputs": [],
   "source": [
    "#Multiple Conditions on One Line\n",
    "a = 330\n",
    "b = 330\n",
    "print(\"A\") if a > b else print(\"=\") if a == b else print(\"B\")"
   ]
  },
  {
   "cell_type": "markdown",
   "id": "8836a4c1-68eb-496b-b2e6-f515e3542b68",
   "metadata": {},
   "source": [
    "### Analisis:\n",
    "Kode tersebut menggunakan shorthand if...elif...else dalam satu baris untuk membandingkan dua nilai. Jika a lebih besar dari b, maka mencetak \"A\"; jika sama, mencetak \"=\"; dan jika b lebih besar, mencetak \"B\". Karena a dan b bernilai sama (330), hasil outputnya adalah \"=\"."
   ]
  },
  {
   "cell_type": "code",
   "execution_count": null,
   "id": "73d1e78e-6928-470d-b3ba-bcef991fe10c",
   "metadata": {},
   "outputs": [],
   "source": [
    "#Practical Examples\n",
    "x = 15\n",
    "y = 20\n",
    "max_value = x if x > y else y\n",
    "print(\"Maximum value:\", max_value)\n",
    "\n",
    "username = \"\"\n",
    "display_name = username if username else \"Guest\"\n",
    "print(\"Welcome,\", display_name)"
   ]
  },
  {
   "cell_type": "markdown",
   "id": "90f86773-b7a7-422d-be1d-c8e33f86610e",
   "metadata": {},
   "source": [
    "### Analisis:\n",
    "Kode tersebut menunjukkan penggunaan praktis shorthand if...else.\n",
    "Baris pertama menentukan nilai maksimum antara x dan y, di mana max_value berisi y karena 20 lebih besar dari 15.\n",
    "Baris kedua menetapkan nama tampilan: jika username kosong, maka digunakan nilai default \"Guest\"."
   ]
  },
  {
   "cell_type": "code",
   "execution_count": null,
   "id": "25082403-f0a4-4da4-98aa-00b73ac90f31",
   "metadata": {},
   "outputs": [],
   "source": [
    "#5.Python Logical Operators\n",
    "#The and Operator\n",
    "a = 200\n",
    "b = 33\n",
    "c = 500\n",
    "if a > b and c > a:\n",
    "  print(\"Both conditions are True\")"
   ]
  },
  {
   "cell_type": "markdown",
   "id": "bfc825ae-a5c8-4fa3-a3a1-ed0833d42460",
   "metadata": {},
   "source": [
    "### Analisis:\n",
    "Kode tersebut menggunakan operator logika and untuk memeriksa dua kondisi sekaligus: apakah a lebih besar dari b dan c lebih besar dari a.\n",
    "Karena kedua kondisi benar (200 > 33 dan 500 > 200), maka program mencetak:"
   ]
  },
  {
   "cell_type": "code",
   "execution_count": null,
   "id": "ae6c401a-2300-480d-a660-a68d71434bc1",
   "metadata": {},
   "outputs": [],
   "source": [
    "#The or Operator\n",
    "a = 200\n",
    "b = 33\n",
    "c = 500\n",
    "if a > b or a > c:\n",
    "  print(\"At least one of the conditions is True\")"
   ]
  },
  {
   "cell_type": "markdown",
   "id": "79f30f2a-2b10-45fc-a71b-f1f1994daa38",
   "metadata": {},
   "source": [
    "### Analisis:\n",
    "Program di atas menggunakan operator logika or untuk mengevaluasi dua kondisi, yaitu apakah a lebih besar dari b atau a lebih besar dari c. Nilai a adalah 200, b adalah 33, dan c adalah 500. Karena kondisi pertama (a > b) bernilai benar meskipun kondisi kedua (a > c) salah, maka pernyataan dalam blok if dijalankan dan menampilkan output \"At least one of the conditions is True\". Hal ini menunjukkan bahwa operator or akan menghasilkan nilai benar jika minimal satu kondisi terpenuhi."
   ]
  },
  {
   "cell_type": "code",
   "execution_count": null,
   "id": "9b139d26-cd7a-4cf3-8c09-a5bfcc4d8ed3",
   "metadata": {},
   "outputs": [],
   "source": [
    "#The not Operator\n",
    "a = 33\n",
    "b = 200\n",
    "if not a > b:\n",
    "  print(\"a is NOT greater than b\")"
   ]
  },
  {
   "cell_type": "markdown",
   "id": "2640bffc-85a7-45ef-84e9-2297405a9bdc",
   "metadata": {},
   "source": [
    "### Analisis:\n",
    "Program di atas menggunakan operator logika not untuk membalik hasil dari suatu kondisi logika. Kondisi yang diuji adalah a > b, dengan nilai a = 33 dan b = 200. Karena a > b bernilai salah, maka not a > b menjadi benar. Oleh karena itu, program mengeksekusi perintah di dalam blok if dan menampilkan output \"a is NOT greater than b\". Operator not berguna untuk membalikkan nilai logika dari suatu ekspresi."
   ]
  },
  {
   "cell_type": "code",
   "execution_count": null,
   "id": "13d79c44-9501-44d9-b67c-4b4ccda5ac03",
   "metadata": {},
   "outputs": [],
   "source": [
    "#Combining Multiple Operators\n",
    "age = 25\n",
    "is_student = False\n",
    "has_discount_code = True\n",
    "\n",
    "if (age < 18 or age > 65) and not is_student or has_discount_code:\n",
    "  print(\"Discount applies!\")"
   ]
  },
  {
   "cell_type": "markdown",
   "id": "828c80f9-c85e-467a-8757-3e4fb7dea342",
   "metadata": {},
   "source": [
    "### Analisis:\n",
    "Kode di atas menggabungkan beberapa operator logika (and, or, dan not) dalam satu kondisi. Variabel age = 25, is_student = False, dan has_discount_code = True. Kondisi if memeriksa apakah seseorang berhak mendapat diskon berdasarkan usia, status pelajar, atau kode diskon. Karena has_discount_code bernilai True, maka keseluruhan ekspresi menghasilkan True, sehingga program menampilkan output \"Discount applies!\". Program ini menunjukkan cara menggabungkan beberapa kondisi logika untuk pengambilan keputusan yang lebih kompleks."
   ]
  },
  {
   "cell_type": "code",
   "execution_count": null,
   "id": "029ccca3-b25d-4dc3-84cc-c9a82e56eb9c",
   "metadata": {},
   "outputs": [],
   "source": [
    "#Using Parentheses for Clarity\n",
    "temperature = 25\n",
    "is_raining = False\n",
    "is_weekend = True\n",
    "\n",
    "if (temperature > 20 and not is_raining) or is_weekend:\n",
    "  print(\"Great day for outdoor activities!\")"
   ]
  },
  {
   "cell_type": "markdown",
   "id": "cf097158-bf94-4d4d-9689-6bafe9f33188",
   "metadata": {},
   "source": [
    "### Analisis:\n",
    "Kode di atas menggunakan tanda kurung untuk memperjelas urutan evaluasi kondisi logika. Dengan temperature = 25, is_raining = False, dan is_weekend = True, ekspresi (temperature > 20 and not is_raining) bernilai True, dan karena juga is_weekend True, kondisi keseluruhan menjadi True. Maka program menampilkan \"Great day for outdoor activities!\". Penggunaan tanda kurung di sini membantu memastikan logika program mudah dibaca dan dieksekusi sesuai urutan yang diinginkan."
   ]
  },
  {
   "cell_type": "code",
   "execution_count": null,
   "id": "95ee5753-1dbe-4e40-944a-7872d9992a5a",
   "metadata": {},
   "outputs": [],
   "source": [
    "#More Examples\n",
    "username = \"Tobias\"\n",
    "password = \"secret123\"\n",
    "is_verified = True\n",
    "if username and password and is_verified:\n",
    "  print(\"Login successful\")\n",
    "else:\n",
    "  print(\"Login failed\")\n",
    "\n",
    "score = 85\n",
    "if score >= 0 and score <= 100:\n",
    "  print(\"Valid score\")\n",
    "else:\n",
    "  print(\"Invalid score\")"
   ]
  },
  {
   "cell_type": "markdown",
   "id": "17c1fb6e-89ab-4573-8d12-67b0aa8eca17",
   "metadata": {},
   "source": [
    "### Analisis:\n",
    "Kode di atas menampilkan dua contoh penggunaan operator logika and. Pada contoh pertama, kondisi username, password, dan is_verified semuanya harus benar agar program menampilkan \"Login successful\", jika tidak maka \"Login failed\". Pada contoh kedua, program memeriksa apakah nilai score berada dalam rentang 0 hingga 100. Jika ya, maka akan mencetak \"Valid score\", sedangkan jika tidak, hasilnya adalah \"Invalid score\"."
   ]
  },
  {
   "cell_type": "code",
   "execution_count": null,
   "id": "ca59a247-c6ee-4032-9f32-0393210184a5",
   "metadata": {},
   "outputs": [],
   "source": [
    "#6.Python Nested If\n",
    "#Nested If Statements\n",
    "x = 41\n",
    "\n",
    "if x > 10:\n",
    "  print(\"Above ten,\")\n",
    "  if x > 20:\n",
    "    print(\"and also above 20!\")\n",
    "  else:\n",
    "    print(\"but not above 20.\")"
   ]
  },
  {
   "cell_type": "markdown",
   "id": "be1cf5b0-1ebd-41f0-b2c6-6ecd6e5f72e5",
   "metadata": {},
   "source": [
    "### Analisis:\n",
    "Kode di atas menunjukkan nested if (percabangan bersarang) di Python. Program pertama memeriksa apakah x lebih besar dari 10, jika benar maka mencetak \"Above ten,\". Lalu, di dalam blok tersebut ada pemeriksaan kedua — jika x juga lebih besar dari 20, maka mencetak \"and also above 20!\", tetapi jika tidak, hasilnya adalah \"but not above 20.\". Jadi, kondisi kedua hanya dijalankan jika kondisi pertama terpenuhi."
   ]
  },
  {
   "cell_type": "code",
   "execution_count": null,
   "id": "1a2a26ba-39c0-4b17-99e0-34abb1831c02",
   "metadata": {},
   "outputs": [],
   "source": [
    "#How Nested If Works\n",
    "age = 25\n",
    "has_license = True\n",
    "\n",
    "if age >= 18:\n",
    "  if has_license:\n",
    "    print(\"You can drive\")\n",
    "  else:\n",
    "    print(\"You need a license\")\n",
    "else:\n",
    "  print(\"You are too young to drive\")"
   ]
  },
  {
   "cell_type": "markdown",
   "id": "0cf19a2b-7f08-4de4-8afd-8e966e68ec83",
   "metadata": {},
   "source": [
    "### Analisis:\n",
    "Kode ini menunjukkan cara kerja nested if atau percabangan di dalam percabangan. Pertama, program memeriksa apakah age lebih besar atau sama dengan 18. Jika benar, maka dicek lagi apakah has_license bernilai True. Jika iya, program mencetak \"You can drive\", tetapi jika tidak, mencetak \"You need a license\". Namun, jika usia kurang dari 18, maka program langsung mencetak \"You are too young to drive\" tanpa memeriksa lisensi."
   ]
  },
  {
   "cell_type": "code",
   "execution_count": null,
   "id": "1e18cb2e-efd7-495b-8fca-3b98dab3c423",
   "metadata": {},
   "outputs": [],
   "source": [
    "#Multiple Levels of Nesting\n",
    "score = 85\n",
    "attendance = 90\n",
    "submitted = True\n",
    "\n",
    "if score >= 60:\n",
    "  if attendance >= 80:\n",
    "    if submitted:\n",
    "      print(\"Pass with good standing\")\n",
    "    else:\n",
    "      print(\"Pass but missing assignment\")\n",
    "  else:\n",
    "    print(\"Pass but low attendance\")\n",
    "else:\n",
    "  print(\"Fail\")"
   ]
  },
  {
   "cell_type": "markdown",
   "id": "d8044ca6-a62a-41a2-8de8-82a54d7bc784",
   "metadata": {},
   "source": [
    "### Analisis:\n",
    "Kode ini menampilkan contoh nested if dengan beberapa tingkat. Program mengevaluasi tiga kondisi: nilai (score), kehadiran (attendance), dan status pengumpulan tugas (submitted). Jika nilai ≥ 60, program lanjut memeriksa kehadiran ≥ 80. Jika kedua syarat terpenuhi, lalu diperiksa apakah tugas telah dikumpulkan. Jika ya, muncul \"Pass with good standing\"; jika tidak, \"Pass but missing assignment\". Namun, jika kehadiran rendah, hasilnya \"Pass but low attendance\", dan jika nilai < 60, program menampilkan \"Fail\"."
   ]
  },
  {
   "cell_type": "code",
   "execution_count": null,
   "id": "45194228-862f-4955-944b-bc19f0b6a491",
   "metadata": {},
   "outputs": [],
   "source": [
    "#Nested If vs Logical Operators\n",
    "temperature = 25\n",
    "is_sunny = True\n",
    "\n",
    "if temperature > 20:\n",
    "  if is_sunny:\n",
    "    print(\"Perfect beach weather!\")\n",
    "\n",
    "temperature = 25\n",
    "is_sunny = True\n",
    "\n",
    "if temperature > 20 and is_sunny:\n",
    "  print(\"Perfect beach weather!\")"
   ]
  },
  {
   "cell_type": "markdown",
   "id": "b96bdf70-54f7-48d3-8685-e99cdc404729",
   "metadata": {},
   "source": [
    "### Analisis:\n",
    "Kode ini menunjukkan perbandingan antara nested if dan logical operators. Pada contoh pertama, digunakan dua if bersarang untuk mengecek apakah suhu di atas 20 dan cuaca cerah sebelum mencetak \"Perfect beach weather!\". Pada contoh kedua, kedua kondisi digabung menggunakan operator logika and, menghasilkan hasil yang sama dengan kode yang lebih ringkas dan mudah dibaca."
   ]
  },
  {
   "cell_type": "code",
   "execution_count": null,
   "id": "1e29e073-a8cd-4d24-9dd8-10fd69a740ab",
   "metadata": {},
   "outputs": [],
   "source": [
    "#More Examples\n",
    "username = \"Emil\"\n",
    "password = \"python123\"\n",
    "is_active = True\n",
    "\n",
    "if username:\n",
    "  if password:\n",
    "    if is_active:\n",
    "      print(\"Login successful\")\n",
    "    else:\n",
    "      print(\"Account is not active\")\n",
    "  else:\n",
    "    print(\"Password required\")\n",
    "else:\n",
    "  print(\"Username required\")\n",
    "\n",
    "score = 92\n",
    "extra_credit = 5\n",
    "\n",
    "if score >= 90:\n",
    "  if extra_credit > 0:\n",
    "    print(\"A+ grade\")\n",
    "  else:\n",
    "    print(\"A grade\")\n",
    "elif score >= 80:\n",
    "  print(\"B grade\")\n",
    "else:\n",
    "  print(\"C grade or below\")"
   ]
  },
  {
   "cell_type": "markdown",
   "id": "6c65a25b-b67a-43a3-85b9-5054cab00fe4",
   "metadata": {},
   "source": [
    "### Analisis:\n",
    "Kode ini menampilkan dua contoh penggunaan nested if. Pada bagian pertama, sistem login diperiksa berlapis: jika username, password, dan is_active semuanya benar, maka ditampilkan “Login successful”. Jika salah satu kondisi tidak terpenuhi, pesan kesalahan spesifik akan muncul. Pada bagian kedua, nilai score dan extra_credit digunakan untuk menentukan grade: nilai 90 ke atas mendapat “A+” bila ada bonus, atau “A” tanpa bonus, sedangkan nilai lebih rendah menghasilkan “B” atau “C grade or below”."
   ]
  },
  {
   "cell_type": "code",
   "execution_count": null,
   "id": "1c307048-7a89-4405-a465-0b37d5c34cbe",
   "metadata": {},
   "outputs": [],
   "source": [
    "#7.Python Pass Statement\n",
    "#The pass Statement\n",
    "a = 33\n",
    "b = 200\n",
    "\n",
    "if b > a:\n",
    "  pass"
   ]
  },
  {
   "cell_type": "markdown",
   "id": "5f742a15-79d7-4403-a1e9-36d1d09bd642",
   "metadata": {},
   "source": [
    "### Analisis:\n",
    "Kode ini menggunakan pernyataan pass sebagai placeholder di dalam blok if. Artinya, meskipun kondisi b > a benar, tidak ada tindakan yang dijalankan. Pernyataan pass berguna ketika kita ingin menulis struktur kode yang belum diisi logika, agar tidak menimbulkan error sintaks."
   ]
  },
  {
   "cell_type": "code",
   "execution_count": null,
   "id": "be819a41-c91f-4915-9e31-9f1fa4367e0a",
   "metadata": {},
   "outputs": [],
   "source": [
    "#pass in Development\n",
    "age = 16\n",
    "\n",
    "if age < 18:\n",
    "  pass # TODO: Add underage logic later\n",
    "else:\n",
    "  print(\"Access granted\")"
   ]
  },
  {
   "cell_type": "markdown",
   "id": "533bdc92-ff15-4c15-be5a-ff57a349bddd",
   "metadata": {},
   "source": [
    "### Analisis:\n",
    "Kode ini menunjukkan penggunaan pass saat pengembangan program sebagai placeholder untuk logika yang belum dibuat. Jika nilai age kurang dari 18, program tidak melakukan apa pun karena bagian itu belum diisi, tetapi tidak menimbulkan error. Jika age 18 atau lebih, maka program menampilkan “Access granted”."
   ]
  },
  {
   "cell_type": "code",
   "execution_count": null,
   "id": "ccbef0b1-24e5-47e6-9be2-14506434c4dd",
   "metadata": {},
   "outputs": [],
   "source": [
    "#pass vs Comments\n",
    "score = 85\n",
    "\n",
    "if score > 90:\n",
    "  # This is excellent\n",
    "# This will raise an IndentationError\n",
    "\n",
    "score = 85\n",
    "\n",
    "if score > 90:\n",
    "  pass # This is excellent\n",
    "print(\"Score processed\")"
   ]
  },
  {
   "cell_type": "markdown",
   "id": "f7c966c4-4e9f-47c7-af04-5e81b2db3768",
   "metadata": {},
   "source": [
    "### Analisis:\n",
    "Kode ini menjelaskan perbedaan antara komentar dan pass. Jika hanya menggunakan komentar tanpa pernyataan dalam blok if, Python akan menimbulkan IndentationError karena blok if kosong. Namun, dengan menambahkan pass, program tetap berjalan normal meskipun belum ada logika di dalamnya, dan akan menampilkan “Score processed”."
   ]
  },
  {
   "cell_type": "code",
   "execution_count": null,
   "id": "b805669f-5b6a-4b59-9543-ace167e0c863",
   "metadata": {},
   "outputs": [],
   "source": [
    "#pass with Multiple Conditions\n",
    "value = 50\n",
    "\n",
    "if value < 0:\n",
    "  print(\"Negative value\")\n",
    "elif value == 0:\n",
    "  pass # Zero case - no action needed\n",
    "else:\n",
    "  print(\"Positive value\")"
   ]
  },
  {
   "cell_type": "markdown",
   "id": "22228007-4ce9-4aa9-b970-59c413dbadea",
   "metadata": {},
   "source": [
    "### Analisis:\n",
    "Kode ini menunjukkan penggunaan pass dalam kondisi tertentu. Jika nilai value kurang dari 0, program mencetak “Negative value”; jika sama dengan 0, program tidak melakukan apa pun karena menggunakan pass; dan jika lebih besar dari 0, program mencetak “Positive value”. Ini berguna saat ingin melewati kondisi tanpa error."
   ]
  },
  {
   "cell_type": "code",
   "execution_count": null,
   "id": "8885f262-0272-452a-93ad-f4c90570c314",
   "metadata": {},
   "outputs": [],
   "source": [
    "#pass in Other Contexts\n",
    "def calculate_discount(price):\n",
    "  pass # TODO: Implement discount logic\n",
    "\n",
    "# Function exists but doesn't do anything yet"
   ]
  },
  {
   "cell_type": "markdown",
   "id": "001e0803-8486-4fa9-b1b3-16f3c2c6b4d1",
   "metadata": {},
   "source": [
    "### Analisis:\n",
    "Kode ini menunjukkan penggunaan pass di dalam fungsi. Fungsi calculate_discount(price) sudah didefinisikan tetapi belum memiliki logika apapun karena baris pass hanya berfungsi sebagai placeholder agar tidak menimbulkan error. Ini berguna saat struktur program sudah dibuat, tetapi detail implementasinya akan ditambahkan nanti."
   ]
  },
  {
   "cell_type": "markdown",
   "id": "62dcf688-8237-4441-bbcc-5409cdc0f14e",
   "metadata": {},
   "source": [
    "## Percobaan 10 Python Match"
   ]
  },
  {
   "cell_type": "code",
   "execution_count": null,
   "id": "29c03632-72c4-4b4a-8ab2-01e5c2f6392a",
   "metadata": {},
   "outputs": [],
   "source": [
    "#The Python Match Statement\n",
    "match expression:\n",
    "  case x:\n",
    "    code block\n",
    "  case y:\n",
    "    code block\n",
    "  case z:\n",
    "    code block"
   ]
  },
  {
   "cell_type": "markdown",
   "id": "6eb88a3a-0de2-4fb3-8002-78aa7bb58c95",
   "metadata": {},
   "source": [
    "### Analisis\n",
    "Kode ini menjelaskan struktur dasar match statement di Python, yang berfungsi seperti switch-case pada bahasa lain. Pernyataan match expression: mengevaluasi nilai dari expression, lalu mencocokkannya dengan setiap case. Jika ada kecocokan, blok kode di dalam case tersebut akan dijalankan. Fitur ini memudahkan pengambilan keputusan berdasarkan beberapa kemungkinan nilai dengan cara yang lebih rapi dan terstruktur dibandingkan menggunakan banyak if-elif-else."
   ]
  },
  {
   "cell_type": "code",
   "execution_count": null,
   "id": "2f8ce1a8-12e8-4b20-abc8-d3f3f7f030f3",
   "metadata": {},
   "outputs": [],
   "source": [
    "day = 4\n",
    "match day:\n",
    "  case 1:\n",
    "    print(\"Monday\")\n",
    "  case 2:\n",
    "    print(\"Tuesday\")\n",
    "  case 3:\n",
    "    print(\"Wednesday\")\n",
    "  case 4:\n",
    "    print(\"Thursday\")\n",
    "  case 5:\n",
    "    print(\"Friday\")\n",
    "  case 6:\n",
    "    print(\"Saturday\")\n",
    "  case 7:\n",
    "    print(\"Sunday\")"
   ]
  },
  {
   "cell_type": "markdown",
   "id": "a00ffc38-fa9d-403e-92c6-3eb976b0dbf0",
   "metadata": {},
   "source": [
    "### Analisis\n",
    "Kode ini menggunakan match statement untuk menentukan hari berdasarkan nilai variabel day. Dalam contoh tersebut, day = 4, sehingga Python mencocokkan nilai ini dengan case 4 dan menampilkan output \"Thursday\". Setiap case mewakili satu kemungkinan nilai dari day, mirip dengan struktur switch-case di bahasa lain. Jika nilai day tidak cocok dengan salah satu case, maka tidak ada output yang ditampilkan."
   ]
  },
  {
   "cell_type": "code",
   "execution_count": null,
   "id": "5d861807-0ba6-4e84-918f-fc677937ff7c",
   "metadata": {},
   "outputs": [],
   "source": [
    "#Default Value\n",
    "day = 4\n",
    "match day:\n",
    "  case 6:\n",
    "    print(\"Today is Saturday\")\n",
    "  case 7:\n",
    "    print(\"Today is Sunday\")\n",
    "  case _:\n",
    "    print(\"Looking forward to the Weekend\")"
   ]
  },
  {
   "cell_type": "markdown",
   "id": "afeddfa9-1983-4237-9ef9-5afe2e36a1f3",
   "metadata": {},
   "source": [
    "### Analisis\n",
    "Kode ini menggunakan match statement dengan default case (case _) untuk menangani nilai yang tidak cocok dengan kondisi sebelumnya. Karena nilai day = 4 tidak sama dengan 6 atau 7, maka program menjalankan bagian default dan menampilkan output: \"Looking forward to the Weekend\". Tanda garis bawah (_) berfungsi seperti else dalam struktur kondisi biasa."
   ]
  },
  {
   "cell_type": "code",
   "execution_count": null,
   "id": "ef3c51a4-69d4-4da0-a161-e20a410bea43",
   "metadata": {},
   "outputs": [],
   "source": [
    "#Combine Values\n",
    "day = 4\n",
    "match day:\n",
    "  case 1 | 2 | 3 | 4 | 5:\n",
    "    print(\"Today is a weekday\")\n",
    "  case 6 | 7:\n",
    "    print(\"I love weekends!\")"
   ]
  },
  {
   "cell_type": "markdown",
   "id": "274d71d3-7133-4301-a10f-3a8080eb0c83",
   "metadata": {},
   "source": [
    "### Analisis\n",
    "Kode ini menunjukkan cara menggabungkan beberapa nilai dalam satu case menggunakan operator | (or) pada pernyataan match. Karena day = 4, program mencocokkan nilai tersebut dengan case 1 | 2 | 3 | 4 | 5 dan menampilkan output \"Today is a weekday\". Teknik ini memudahkan penanganan beberapa kondisi yang memiliki hasil sama tanpa menulis banyak case terpisah."
   ]
  },
  {
   "cell_type": "code",
   "execution_count": null,
   "id": "aee9a059-b599-41fe-94e9-60a0910b97ca",
   "metadata": {},
   "outputs": [],
   "source": [
    "#If Statements as Guards\n",
    "month = 5\n",
    "day = 4\n",
    "match day:\n",
    "  case 1 | 2 | 3 | 4 | 5 if month == 4:\n",
    "    print(\"A weekday in April\")\n",
    "  case 1 | 2 | 3 | 4 | 5 if month == 5:\n",
    "    print(\"A weekday in May\")\n",
    "  case _:\n",
    "    print(\"No match\")"
   ]
  },
  {
   "cell_type": "markdown",
   "id": "904bc394-d1e5-4c66-ba3c-54f56aa2f0fa",
   "metadata": {},
   "source": [
    "### Analisis\n",
    "Kode ini menggunakan if guard di dalam pernyataan match untuk menambahkan kondisi tambahan pada setiap case. Variabel day = 4 dan month = 5, sehingga cocok dengan case kedua (1 | 2 | 3 | 4 | 5 if month == 5) dan menghasilkan output \"A weekday in May\". Konsep ini memungkinkan match menangani pola yang sama dengan syarat berbeda secara efisien."
   ]
  }
 ],
 "metadata": {
  "kernelspec": {
   "display_name": "Python 3 (ipykernel)",
   "language": "python",
   "name": "python3"
  },
  "language_info": {
   "codemirror_mode": {
    "name": "ipython",
    "version": 3
   },
   "file_extension": ".py",
   "mimetype": "text/x-python",
   "name": "python",
   "nbconvert_exporter": "python",
   "pygments_lexer": "ipython3",
   "version": "3.13.5"
  }
 },
 "nbformat": 4,
 "nbformat_minor": 5
}
